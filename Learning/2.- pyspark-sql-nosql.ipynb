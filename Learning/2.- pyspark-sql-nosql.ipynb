{
 "cells": [
  {
   "cell_type": "markdown",
   "metadata": {},
   "source": [
    "# PySpark SQL"
   ]
  },
  {
   "cell_type": "markdown",
   "metadata": {},
   "source": [
    "Structure Query Language(SQL) is the language most commonly and widely used to define and express questions about data"
   ]
  },
  {
   "cell_type": "markdown",
   "metadata": {},
   "source": [
    "### Hive "
   ]
  },
  {
   "attachments": {},
   "cell_type": "markdown",
   "metadata": {},
   "source": [
    "> *Abstraction SQL*\n",
    "> \n",
    "> A database abstraction layer (DBAL or DAL) is an application programming interface which unifies the communication between a computer application and databases such as SQL Server, IBM Db2, MySQL, PostgreSQL, Oracle or SQLite."
   ]
  },
  {
   "attachments": {},
   "cell_type": "markdown",
   "metadata": {},
   "source": [
    "Many of the SQL abstractions to Big Data processing platforms, such as Spark, are based on the Hive project.\n",
    "\n",
    "In Hive project, the tables are in actually HDFS, so the HDFS can se access via Sql statement like a DBMS (Heidi). Here  those statements are converted to a sequence of *Java MapReduce operations* to manipulation HDFS and get the result. \n",
    "\n",
    "Hive is a platform only read, if well UPDATE is included in HiveqL HDFS is still inmutable, the apparent update is carry on coarse-grained transformations, functions that modify the data only for user, but the data is still inmutable.\n",
    "\n",
    "Also there are no definitions for primary keys or foreign keys."
   ]
  },
  {
   "attachments": {},
   "cell_type": "markdown",
   "metadata": {},
   "source": [
    "`Hive metastore` maps tha *tables* and directory of the location of HDFS, the columns\n",
    "\n",
    "The metastore is a relational database written to and read by the Hive client, so here the writen a read operation is done."
   ]
  },
  {
   "attachments": {},
   "cell_type": "markdown",
   "metadata": {},
   "source": [
    "### Spark SQL Architecture"
   ]
  },
  {
   "attachments": {},
   "cell_type": "markdown",
   "metadata": {},
   "source": [
    "Spark SQL provide compatibility of HiveSql to RDD base storage (instead to HDFS)\n",
    "\n",
    "Many of the key characteristics of the core Spark project are in Spark SQL, including lazy evaluation and midquery fault tolerance\n",
    "\n",
    "Spark sql include:\n",
    "\n",
    "* *Partial DAG execution*: PDE enables DAGs to be changed and optimized on the fly as information about the data is discovered during processing. The DAG modifications include optimization for performing\n",
    "joins, handling skew in the data\n",
    "\n",
    "* *Partition statistics*: Spark SQL maintains statistics about data within\n",
    "partitions\n",
    "\n",
    "* *The DataFrame API*\n",
    "\n",
    "* *Columnar storage*: Spark SQL stores objects in memory using columnar\n",
    "storage, which organizes data by columns instead of by rows."
   ]
  },
  {
   "attachments": {},
   "cell_type": "markdown",
   "metadata": {},
   "source": [
    "It include native support for files Parquet format.\n",
    "\n",
    "We can define our own functions (UDFs) and HiveSql"
   ]
  },
  {
   "attachments": {},
   "cell_type": "markdown",
   "metadata": {},
   "source": [
    "<div align=\"center\">\n",
    "    <img src =\"./assets/img/spark-sql.png\" width=\"300\" >\n",
    "</div>"
   ]
  },
  {
   "cell_type": "code",
   "execution_count": 1,
   "metadata": {},
   "outputs": [],
   "source": [
    "# Pypark\n",
    "from pyspark import SparkContext, SparkConf\n",
    "from pyspark.sql import SparkSession\n",
    "from pyspark.sql import functions\n",
    "import pandas as pd\n",
    "import numpy as np"
   ]
  },
  {
   "attachments": {},
   "cell_type": "markdown",
   "metadata": {},
   "source": [
    "Just as the **SparkContext** is the main entry point for an application using the Spark core API, but now we are in stalone mode."
   ]
  },
  {
   "cell_type": "markdown",
   "metadata": {},
   "source": [
    "Next, let's initialise a **Spark Session**. \n",
    "* A SparkSession object is the entry point to the Spark functionality. \n",
    "* When you create the SparkSession object, it initiates a **Spark Application** which all the code for that Session will run on.\n"
   ]
  },
  {
   "cell_type": "code",
   "execution_count": 2,
   "metadata": {},
   "outputs": [],
   "source": [
    "spark = SparkSession\\\n",
    "    .builder\\\n",
    "        .appName(\"spark-sql-app\")\\\n",
    "            .enableHiveSupport()\\\n",
    "                .getOrCreate()"
   ]
  },
  {
   "attachments": {},
   "cell_type": "markdown",
   "metadata": {},
   "source": [
    "Build an app and enable Hive support (to use sql), if exist already we get, otherwise it is created."
   ]
  },
  {
   "cell_type": "code",
   "execution_count": 3,
   "metadata": {},
   "outputs": [],
   "source": [
    "# Enable Arrow-based columnar data transfers \n",
    "spark.conf.set(\"spark.sql.execution.arrow.pyspark.enabled\", \"true\")"
   ]
  },
  {
   "cell_type": "markdown",
   "metadata": {},
   "source": [
    "*Apache Arrow* is an in-memory columnar data format that is used in Spark to efficiently transfer data between JVM and Python processes.\n",
    "\n",
    "This currently is most beneficial to Python users that work with Pandas/NumPy data. \n",
    "\n",
    "To use we need to install `pyarrow`\n",
    "\n",
    "`Arrow` is available as an optimization when converting a Spark DataFrame to a Pandas DataFrame using `dataframe.toPandas()` and when creating a Spark DataFrame from a Pandas DataFrame with `SparkSession.createDataFrame()`. To use Arrow when executing these calls, users need to first set the Spark configuration `spark.sql.execution.arrow.pyspark.enabled` to `true`."
   ]
  },
  {
   "cell_type": "markdown",
   "metadata": {},
   "source": [
    "More information on [arrow pandas](https://spark.apache.org/docs/latest/api/python/user_guide/sql/arrow_pandas.html)"
   ]
  },
  {
   "cell_type": "markdown",
   "metadata": {},
   "source": [
    "## Spark UI"
   ]
  },
  {
   "cell_type": "markdown",
   "metadata": {},
   "source": [
    "* We can easily check the current version and get the link of the web interface, **Spark UI**. \n",
    "* In the Spark UI, you can monitor the progress of your job and debug the performance bottlenecks (if your Colab is running with a **local runtime**)."
   ]
  },
  {
   "cell_type": "code",
   "execution_count": 4,
   "metadata": {},
   "outputs": [
    {
     "data": {
      "text/html": [
       "\n",
       "            <div>\n",
       "                <p><b>SparkSession - hive</b></p>\n",
       "                \n",
       "        <div>\n",
       "            <p><b>SparkContext</b></p>\n",
       "\n",
       "            <p><a href=\"http://DESKTOP-OQ1AEH9:4040\">Spark UI</a></p>\n",
       "\n",
       "            <dl>\n",
       "              <dt>Version</dt>\n",
       "                <dd><code>v3.2.1</code></dd>\n",
       "              <dt>Master</dt>\n",
       "                <dd><code>local[*]</code></dd>\n",
       "              <dt>AppName</dt>\n",
       "                <dd><code>spark-sql-app</code></dd>\n",
       "            </dl>\n",
       "        </div>\n",
       "        \n",
       "            </div>\n",
       "        "
      ],
      "text/plain": [
       "<pyspark.sql.session.SparkSession at 0x259eadaf490>"
      ]
     },
     "execution_count": 4,
     "metadata": {},
     "output_type": "execute_result"
    }
   ],
   "source": [
    "spark"
   ]
  },
  {
   "attachments": {},
   "cell_type": "markdown",
   "metadata": {},
   "source": [
    "## Getting Started with Dataframe"
   ]
  },
  {
   "attachments": {},
   "cell_type": "markdown",
   "metadata": {},
   "source": [
    "*DataFrame is an abstraction for Spark RDDs*. However, unlike primitive RDDs, DataFrames track their schema and provide native support for many common SQL functions and relational operators."
   ]
  },
  {
   "attachments": {},
   "cell_type": "markdown",
   "metadata": {},
   "source": [
    "Dataframes are evaluated in DAG\n",
    "\n",
    "They use *lazy evaluation* and *providing lineage* and fault tolerance. Also like RDDs, DataFrames support caching and persistence"
   ]
  },
  {
   "attachments": {},
   "cell_type": "markdown",
   "metadata": {},
   "source": [
    "DataFrames can be created in many different ways, including from the following: \n",
    "* from RDD\n",
    "* JSON file\n",
    "* A text file, parquet file, or ORC file...\n",
    "* A table hive\n",
    "* A table of the external base\n",
    "* A temporary table in Spark"
   ]
  },
  {
   "attachments": {},
   "cell_type": "markdown",
   "metadata": {},
   "source": [
    "### From RDD"
   ]
  },
  {
   "cell_type": "code",
   "execution_count": null,
   "metadata": {},
   "outputs": [],
   "source": []
  },
  {
   "attachments": {},
   "cell_type": "markdown",
   "metadata": {},
   "source": [
    "### From JSON objects "
   ]
  },
  {
   "attachments": {},
   "cell_type": "markdown",
   "metadata": {},
   "source": [
    "Multiline is set to false by default"
   ]
  },
  {
   "cell_type": "code",
   "execution_count": 27,
   "metadata": {},
   "outputs": [],
   "source": [
    "data_user = spark.read.option(\"multiline\",\"true\")\\\n",
    "    .json(path = r'./assets/files/json/data-user-1.json')"
   ]
  },
  {
   "cell_type": "code",
   "execution_count": 28,
   "metadata": {},
   "outputs": [
    {
     "name": "stdout",
     "output_type": "stream",
     "text": [
      "+--------------------+---+---------+----------+\n",
      "|             Address|Age|CellPhone|CustomerId|\n",
      "+--------------------+---+---------+----------+\n",
      "| Avenida Iquitos 876| 37|981914173|      1001|\n",
      "|Avenida San Juan ...| 34|969461498|      1002|\n",
      "|Avenida Santa Ros...| 42|998535877|      1003|\n",
      "|Avenida Venezuela...| 44|979577766|      1004|\n",
      "|Avenida Alfonso U...| 46|958015467|      1005|\n",
      "+--------------------+---+---------+----------+\n",
      "only showing top 5 rows\n",
      "\n"
     ]
    }
   ],
   "source": [
    "data_user.show(5)"
   ]
  },
  {
   "attachments": {},
   "cell_type": "markdown",
   "metadata": {},
   "source": [
    "We can read multiple files at a time, with the same schema"
   ]
  },
  {
   "cell_type": "code",
   "execution_count": 21,
   "metadata": {},
   "outputs": [],
   "source": [
    "data_user_multi = spark.read.option(\"multiline\",\"true\")\\\n",
    "    .json([ r'./assets/files/json/data-user-1.json', r'./assets/files/json/data-user-2.json'])"
   ]
  },
  {
   "attachments": {},
   "cell_type": "markdown",
   "metadata": {},
   "source": [
    "This read the files and concat them, so the squema must be the same"
   ]
  },
  {
   "cell_type": "code",
   "execution_count": 29,
   "metadata": {},
   "outputs": [
    {
     "name": "stdout",
     "output_type": "stream",
     "text": [
      "root\n",
      " |-- Address: string (nullable = true)\n",
      " |-- Age: long (nullable = true)\n",
      " |-- CellPhone: long (nullable = true)\n",
      " |-- CustomerId: long (nullable = true)\n",
      "\n"
     ]
    }
   ],
   "source": [
    "data_user_multi.printSchema()"
   ]
  },
  {
   "attachments": {},
   "cell_type": "markdown",
   "metadata": {},
   "source": [
    "We can read all json files from directory. Again, the schema must be the same"
   ]
  },
  {
   "cell_type": "code",
   "execution_count": 30,
   "metadata": {},
   "outputs": [],
   "source": [
    "data_user_all = spark.read.option(\"multiline\",\"true\")\\\n",
    "    .json(r'./assets/files/json/*.json')"
   ]
  },
  {
   "attachments": {},
   "cell_type": "markdown",
   "metadata": {},
   "source": [
    "### From csv"
   ]
  },
  {
   "attachments": {},
   "cell_type": "markdown",
   "metadata": {},
   "source": [
    "Get file from http request"
   ]
  },
  {
   "cell_type": "code",
   "execution_count": 35,
   "metadata": {},
   "outputs": [],
   "source": [
    "from pyspark import SparkFiles\n",
    "\n",
    "url = \"https://people.sc.fsu.edu/~jburkardt/data/csv/cities.csv\"\n",
    "\n",
    "spark.sparkContext.addFile(url)"
   ]
  },
  {
   "cell_type": "code",
   "execution_count": 41,
   "metadata": {},
   "outputs": [],
   "source": [
    "cities = spark.read.csv(SparkFiles.get(\"cities.csv\"), header=True, inferSchema= True)"
   ]
  },
  {
   "cell_type": "code",
   "execution_count": 42,
   "metadata": {},
   "outputs": [
    {
     "name": "stdout",
     "output_type": "stream",
     "text": [
      "root\n",
      " |-- LatD: double (nullable = true)\n",
      " |--  \"LatM\": double (nullable = true)\n",
      " |--  \"LatS\": double (nullable = true)\n",
      " |--  \"NS\": string (nullable = true)\n",
      " |--  \"LonD\": double (nullable = true)\n",
      " |--  \"LonM\": double (nullable = true)\n",
      " |--  \"LonS\": double (nullable = true)\n",
      " |--  \"EW\": string (nullable = true)\n",
      " |--  \"City\": string (nullable = true)\n",
      " |--  \"State\": string (nullable = true)\n",
      "\n"
     ]
    }
   ],
   "source": [
    "cities.printSchema()"
   ]
  },
  {
   "attachments": {},
   "cell_type": "markdown",
   "metadata": {},
   "source": [
    "Another example"
   ]
  },
  {
   "cell_type": "markdown",
   "metadata": {},
   "source": [
    "We specify that we want to interpret the first line as headers and that we want Spark to try to infer the types of the data."
   ]
  },
  {
   "attachments": {},
   "cell_type": "markdown",
   "metadata": {},
   "source": [
    "`Soul.Inc` is fictitious company located in Peru that have like business model `market place`, a virtual place where the sellers can be upload their products in order to be bought by potential users. The products that are uploaded in the app are recorded in a table called `product`. Data about the `sales` and the `users` have their own tables.\n",
    "\n",
    "A sample of the `products` table is\n",
    "\n",
    "<center>\n",
    "\n",
    "| product_id| category_id |current_prices|old_prices|\n",
    "|------|------|-------|------|\n",
    "|18006|114|38.35763397762942| 43.97786811127209|\n",
    "|...|...|...|...|\n",
    "\n",
    "<center>"
   ]
  },
  {
   "cell_type": "code",
   "execution_count": 20,
   "metadata": {},
   "outputs": [],
   "source": [
    "products = spark.read.option(\"inferSchema\",True).option(\"header\", True).csv(\n",
    "    path = './assets/files/products.csv')"
   ]
  },
  {
   "cell_type": "code",
   "execution_count": 21,
   "metadata": {},
   "outputs": [
    {
     "name": "stdout",
     "output_type": "stream",
     "text": [
      "+----------+-----------+------------------+------------------+\n",
      "|product_id|category_id|    current_prices|        old_prices|\n",
      "+----------+-----------+------------------+------------------+\n",
      "|     18006|        114| 38.35763397762942| 43.97786811127209|\n",
      "|     10912|        105|32.753377759884735|36.723643207569665|\n",
      "+----------+-----------+------------------+------------------+\n",
      "only showing top 2 rows\n",
      "\n"
     ]
    }
   ],
   "source": [
    "products.show(2)"
   ]
  },
  {
   "attachments": {},
   "cell_type": "markdown",
   "metadata": {},
   "source": [
    "### From parquet"
   ]
  },
  {
   "cell_type": "code",
   "execution_count": 10,
   "metadata": {},
   "outputs": [],
   "source": [
    "from dotenv import dotenv_values\n",
    "config = dotenv_values('.env')"
   ]
  },
  {
   "cell_type": "code",
   "execution_count": 11,
   "metadata": {},
   "outputs": [],
   "source": [
    "dfs = spark.read.parquet(config['PARQUET_PATH'])"
   ]
  },
  {
   "cell_type": "code",
   "execution_count": 16,
   "metadata": {},
   "outputs": [
    {
     "data": {
      "text/plain": [
       "DataFrame[days: tinyint, months: tinyint, years: smallint]"
      ]
     },
     "execution_count": 16,
     "metadata": {},
     "output_type": "execute_result"
    }
   ],
   "source": [
    "dfs"
   ]
  },
  {
   "cell_type": "code",
   "execution_count": 12,
   "metadata": {},
   "outputs": [
    {
     "name": "stdout",
     "output_type": "stream",
     "text": [
      "+----+------+-----+\n",
      "|days|months|years|\n",
      "+----+------+-----+\n",
      "|   1|     1| 1990|\n",
      "|  12|     3| 2000|\n",
      "|  17|     5| 1995|\n",
      "+----+------+-----+\n",
      "only showing top 3 rows\n",
      "\n"
     ]
    }
   ],
   "source": [
    "dfs.show(3)"
   ]
  },
  {
   "attachments": {},
   "cell_type": "markdown",
   "metadata": {},
   "source": [
    "## DataFrame Data Model: Primitive Types\n",
    "\n",
    "The data model for the DataFrame API is based on the Hive data model.\n",
    "\n",
    "Datatypes used with DataFrames map directly to their equivalents in Hive. This includes all common primitive types as well as complex, nested types such as the equivalents to lists, dictionaries, and tuples."
   ]
  },
  {
   "attachments": {},
   "cell_type": "markdown",
   "metadata": {},
   "source": [
    "<div align=\"center\">\n",
    "    <img src=\"./assets/img/dtypes-spark.png\" width=\"400\" />\n",
    "</div>"
   ]
  },
  {
   "attachments": {},
   "cell_type": "markdown",
   "metadata": {},
   "source": [
    "### Dataframe metadata"
   ]
  },
  {
   "cell_type": "code",
   "execution_count": 17,
   "metadata": {},
   "outputs": [
    {
     "data": {
      "text/plain": [
       "['days', 'months', 'years']"
      ]
     },
     "execution_count": 17,
     "metadata": {},
     "output_type": "execute_result"
    }
   ],
   "source": [
    "# return a list of columns\n",
    "dfs.columns"
   ]
  },
  {
   "cell_type": "code",
   "execution_count": 18,
   "metadata": {},
   "outputs": [
    {
     "data": {
      "text/plain": [
       "[('days', 'tinyint'), ('months', 'tinyint'), ('years', 'smallint')]"
      ]
     },
     "execution_count": 18,
     "metadata": {},
     "output_type": "execute_result"
    }
   ],
   "source": [
    "# return a list of tuples (name-column, type) \n",
    "dfs.dtypes"
   ]
  },
  {
   "cell_type": "code",
   "execution_count": null,
   "metadata": {},
   "outputs": [],
   "source": []
  },
  {
   "cell_type": "markdown",
   "metadata": {},
   "source": [
    "# Spark operations: transformations vs actions\n",
    "\n",
    "The operations you can do within a Spark application are divided into two types:\n",
    "\n",
    "* **Transformations**: \n",
    "\n",
    "    * when applied to an DataFrame, they return a new DataFrame created via the transformation.\n",
    "    * examples: ``filter`` (returns an DataFrame with those elements that pass a condition) and ``sortBy`` (returns a sorted DataFrame). \n",
    "\n",
    "* **Actions**: \n",
    "\n",
    "    * when applied to an DataFrame, they return a non-DataFrame output.\n",
    "    * example: ``count`` (returns the number of rows in DataFrame to the Spark driver),  ``collect`` (sends the contents of a DataFrame to the driver)."
   ]
  },
  {
   "cell_type": "code",
   "execution_count": 7,
   "metadata": {},
   "outputs": [],
   "source": [
    "# `filter` return a dataframe\n",
    "products_50 = products.filter(functions.col('current_prices') >= 50).filter(\n",
    "    functions.col('category_id').isNotNull())"
   ]
  },
  {
   "cell_type": "code",
   "execution_count": 8,
   "metadata": {},
   "outputs": [
    {
     "data": {
      "text/plain": [
       "12"
      ]
     },
     "execution_count": 8,
     "metadata": {},
     "output_type": "execute_result"
    }
   ],
   "source": [
    "# `count` return a aggregation\n",
    "products_50.count()"
   ]
  },
  {
   "attachments": {},
   "cell_type": "markdown",
   "metadata": {},
   "source": [
    "## Narrow vs. wide transformations\n",
    "\n",
    "* **Narrow transformation**: \n",
    "    * when applied on an RDD, there is no data movement between partitions. \n",
    "    * each partition of the parent RDD is used by at most one partition of the child RDD\n",
    "    * example: ``filter``, ``union``\n",
    "\n",
    "\n",
    "* **Wide transformation**:\n",
    "\n",
    "    * requires data movement between partitions, which is known as **shuffle**. \n",
    "    * the data is moved across the network and the partitions of the newly-created RDD are based on the data of multiple input partitions.\n",
    "    * example: ``sortBy``\n"
   ]
  },
  {
   "cell_type": "markdown",
   "metadata": {},
   "source": [
    "![image.png](data:image/png;base64,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)"
   ]
  },
  {
   "attachments": {},
   "cell_type": "markdown",
   "metadata": {},
   "source": [
    "## Basic DataFrame Operations"
   ]
  },
  {
   "attachments": {},
   "cell_type": "markdown",
   "metadata": {},
   "source": [
    "* `.select(name_of_column)`\n",
    "* `.drop(name_of_column)`\n",
    "* `.where()`\n",
    "* `.count()`\n",
    "* `.take()`\n",
    "* `.foreach()`\n",
    "* `.withColumn(name_of_new_column, expression)`  \n",
    "  * Adding new column and operations with columns\n",
    "* `.cast(type)` \n",
    "  * Convert type with \n",
    "* ..."
   ]
  },
  {
   "attachments": {},
   "cell_type": "markdown",
   "metadata": {},
   "source": [
    "The `select()`, `drop()`, `filter()`, `where()`, and `distinct()` methods can prune columns or filter rows from a DataFrame. In each case, the results of these operations create a new DataFrame object."
   ]
  },
  {
   "cell_type": "code",
   "execution_count": 23,
   "metadata": {},
   "outputs": [
    {
     "name": "stdout",
     "output_type": "stream",
     "text": [
      "+----------+-----------+------------------+------------------+\n",
      "|product_id|category_id|    current_prices|        old_prices|\n",
      "+----------+-----------+------------------+------------------+\n",
      "|     18006|        114| 38.35763397762942| 43.97786811127209|\n",
      "|     10912|        105|32.753377759884735|36.723643207569665|\n",
      "+----------+-----------+------------------+------------------+\n",
      "only showing top 2 rows\n",
      "\n"
     ]
    }
   ],
   "source": [
    "products.show(2)"
   ]
  },
  {
   "cell_type": "code",
   "execution_count": 30,
   "metadata": {},
   "outputs": [],
   "source": [
    "category_id = products.select('category_id')"
   ]
  },
  {
   "cell_type": "code",
   "execution_count": 31,
   "metadata": {},
   "outputs": [
    {
     "name": "stdout",
     "output_type": "stream",
     "text": [
      "+-----------+\n",
      "|category_id|\n",
      "+-----------+\n",
      "|        114|\n",
      "|        105|\n",
      "+-----------+\n",
      "only showing top 2 rows\n",
      "\n"
     ]
    }
   ],
   "source": [
    "category_id.show(2)"
   ]
  },
  {
   "cell_type": "code",
   "execution_count": 32,
   "metadata": {},
   "outputs": [
    {
     "name": "stdout",
     "output_type": "stream",
     "text": [
      "root\n",
      " |-- product_id: integer (nullable = true)\n",
      " |-- current_prices: double (nullable = true)\n",
      " |-- old_prices: double (nullable = true)\n",
      "\n"
     ]
    }
   ],
   "source": [
    "products_without_category_id = products.drop('category_id') \n",
    "products_without_category_id.printSchema()"
   ]
  },
  {
   "cell_type": "code",
   "execution_count": 33,
   "metadata": {},
   "outputs": [],
   "source": [
    "products = products.withColumn(\n",
    "    'discount',\n",
    "    (functions.col('old_prices') - functions.col('current_prices')) /\n",
    "    functions.col('old_prices'))"
   ]
  },
  {
   "cell_type": "code",
   "execution_count": 34,
   "metadata": {},
   "outputs": [
    {
     "name": "stdout",
     "output_type": "stream",
     "text": [
      "root\n",
      " |-- product_id: integer (nullable = true)\n",
      " |-- category_id: integer (nullable = true)\n",
      " |-- current_prices: double (nullable = true)\n",
      " |-- old_prices: double (nullable = true)\n",
      " |-- discount: double (nullable = true)\n",
      "\n"
     ]
    }
   ],
   "source": [
    "products.printSchema()"
   ]
  },
  {
   "cell_type": "code",
   "execution_count": 35,
   "metadata": {},
   "outputs": [],
   "source": [
    "from pyspark.sql.types import IntegerType, BooleanType, DateType, StringType"
   ]
  },
  {
   "cell_type": "code",
   "execution_count": 14,
   "metadata": {},
   "outputs": [
    {
     "name": "stdout",
     "output_type": "stream",
     "text": [
      "root\n",
      " |-- product_id: integer (nullable = true)\n",
      " |-- category_id: integer (nullable = true)\n",
      " |-- current_prices: double (nullable = true)\n",
      " |-- old_prices: double (nullable = true)\n",
      " |-- discount: double (nullable = true)\n",
      " |-- category_id_string: string (nullable = true)\n",
      "\n"
     ]
    }
   ],
   "source": [
    "products.withColumn('category_id_string', products.category_id.cast(StringType())).printSchema()"
   ]
  },
  {
   "cell_type": "code",
   "execution_count": 36,
   "metadata": {},
   "outputs": [],
   "source": [
    "products_50 = products\\\n",
    "    .filter(functions.col('current_prices') >= 50)\\\n",
    "        .filter(functions.col('category_id').isNotNull())"
   ]
  },
  {
   "cell_type": "code",
   "execution_count": 37,
   "metadata": {},
   "outputs": [
    {
     "name": "stdout",
     "output_type": "stream",
     "text": [
      "+----------+-----------+------------------+------------------+-------------------+\n",
      "|product_id|category_id|    current_prices|        old_prices|           discount|\n",
      "+----------+-----------+------------------+------------------+-------------------+\n",
      "|     18195|        143| 50.36640499390038|53.420829471019545|0.05717665763269678|\n",
      "|     14059|        183| 55.90109478796007| 59.51755854568664|0.06076297224037701|\n",
      "|     17370|        190| 52.94775465511651|54.292536358436834|0.02476918179769932|\n",
      "|     17490|        154|50.229501424233455|54.102159464453244|0.07158047069755585|\n",
      "|     11785|        126| 52.57626400155483| 54.80887778638559|0.04073452832827989|\n",
      "+----------+-----------+------------------+------------------+-------------------+\n",
      "only showing top 5 rows\n",
      "\n"
     ]
    }
   ],
   "source": [
    "products_50.show(5)"
   ]
  },
  {
   "cell_type": "code",
   "execution_count": 40,
   "metadata": {},
   "outputs": [
    {
     "data": {
      "text/plain": [
       "12"
      ]
     },
     "execution_count": 40,
     "metadata": {},
     "output_type": "execute_result"
    }
   ],
   "source": [
    "products_50.select('category_id').distinct().count()"
   ]
  },
  {
   "attachments": {},
   "cell_type": "markdown",
   "metadata": {},
   "source": [
    "### DataFrame Built-in Functions"
   ]
  },
  {
   "attachments": {},
   "cell_type": "markdown",
   "metadata": {
    "id": "YC5w9ndSK--H"
   },
   "source": [
    "Numerous functions available in Spark SQL are present in most other common DBMS implementations of SQL. Using the Python Spark API, these built-in functions are available through the *pyspark.sql.functions* module Functions:\n",
    "\n",
    "<div align=\"center\">\n",
    "    <img src=\"./assets/img/spark-functions.png\" width=\"400\" />\n",
    "</div>"
   ]
  },
  {
   "cell_type": "code",
   "execution_count": 41,
   "metadata": {},
   "outputs": [],
   "source": [
    "from pyspark.sql import functions"
   ]
  },
  {
   "cell_type": "code",
   "execution_count": 42,
   "metadata": {},
   "outputs": [
    {
     "name": "stdout",
     "output_type": "stream",
     "text": [
      "+-------------------+\n",
      "|      max(discount)|\n",
      "+-------------------+\n",
      "|0.14984722643368215|\n",
      "+-------------------+\n",
      "\n"
     ]
    }
   ],
   "source": [
    "products.select(functions.max('discount')).show()"
   ]
  },
  {
   "cell_type": "markdown",
   "metadata": {},
   "source": [
    "Changing the *alias*. This is simialr to `as` in sql"
   ]
  },
  {
   "cell_type": "code",
   "execution_count": 43,
   "metadata": {},
   "outputs": [
    {
     "name": "stdout",
     "output_type": "stream",
     "text": [
      "+-------------------+\n",
      "|       max_discount|\n",
      "+-------------------+\n",
      "|0.14984722643368215|\n",
      "+-------------------+\n",
      "\n"
     ]
    }
   ],
   "source": [
    "products.select(functions.max('discount').alias('max_discount')).show()"
   ]
  },
  {
   "cell_type": "code",
   "execution_count": 17,
   "metadata": {},
   "outputs": [
    {
     "name": "stdout",
     "output_type": "stream",
     "text": [
      "+-------------------+--------------------+-------------------+---------------------+\n",
      "|      max(discount)|       min(discount)|      avg(discount)|stddev_samp(discount)|\n",
      "+-------------------+--------------------+-------------------+---------------------+\n",
      "|0.14984722643368215|0.010025509837154084|0.08263149621146539| 0.039747420203879766|\n",
      "+-------------------+--------------------+-------------------+---------------------+\n",
      "\n"
     ]
    }
   ],
   "source": [
    "products.select(functions.max('discount'),\n",
    "                               functions.min('discount'),\n",
    "                               functions.avg('discount'),\n",
    "                               functions.stddev('discount')).show()\n"
   ]
  },
  {
   "cell_type": "code",
   "execution_count": 18,
   "metadata": {},
   "outputs": [
    {
     "name": "stdout",
     "output_type": "stream",
     "text": [
      "+-------+--------------------+------------------+\n",
      "|summary|            discount|        old_prices|\n",
      "+-------+--------------------+------------------+\n",
      "|  count|                 700|               700|\n",
      "|   mean| 0.08263149621146539| 37.85245207694143|\n",
      "| stddev|0.039747420203879766|5.6951042361858715|\n",
      "|    min|0.010025509837154084|30.215020214892444|\n",
      "|    max| 0.14984722643368215| 62.38072854786709|\n",
      "+-------+--------------------+------------------+\n",
      "\n"
     ]
    }
   ],
   "source": [
    "# show the main statitics\n",
    "products.describe(['discount', 'old_prices']).show()"
   ]
  },
  {
   "cell_type": "code",
   "execution_count": 19,
   "metadata": {},
   "outputs": [
    {
     "name": "stdout",
     "output_type": "stream",
     "text": [
      "+----------+-----------+------------------+------------------+-------------------+\n",
      "|product_id|category_id|    current_prices|        old_prices|           discount|\n",
      "+----------+-----------+------------------+------------------+-------------------+\n",
      "|     16342|        141|40.876925042455106|47.966318220986054|0.14779940261141872|\n",
      "|     17733|        141| 34.11837528039679| 39.96083999873853| 0.1462047524157693|\n",
      "+----------+-----------+------------------+------------------+-------------------+\n",
      "\n"
     ]
    }
   ],
   "source": [
    "# Show the products have discount greater or equal to 14% and belong to category 141\n",
    "products.filter(functions.col('discount') > 0.14).filter(\n",
    "    functions.col('category_id') == 141).show()\n"
   ]
  },
  {
   "attachments": {},
   "cell_type": "markdown",
   "metadata": {},
   "source": [
    "**groupBy** | **orderBy**\n",
    "\n",
    "* The *orderBy()* method creates a new DataFrame ordered by the columns specified in the cols argument; ascending is a Boolean argument that defaults to True\n",
    "\n",
    "* The *groupBy()* method creates a new DataFrame containing the input DataFrame grouped by the column or columns specified in the cols argument\n"
   ]
  },
  {
   "cell_type": "code",
   "execution_count": 20,
   "metadata": {},
   "outputs": [
    {
     "name": "stdout",
     "output_type": "stream",
     "text": [
      "+-----------+------------------+\n",
      "|category_id|current_prices_sum|\n",
      "+-----------+------------------+\n",
      "|        176|30.188591115101982|\n",
      "|        103| 30.39092755248682|\n",
      "|        115|30.929346475653542|\n",
      "|        184|30.932992062869374|\n",
      "|        111|31.530079909334994|\n",
      "+-----------+------------------+\n",
      "only showing top 5 rows\n",
      "\n"
     ]
    }
   ],
   "source": [
    "products.groupBy('category_id').agg(\n",
    "    functions.avg('current_prices').alias(\n",
    "        'current_prices_sum')).orderBy('current_prices_sum', ascending=True).show(5)"
   ]
  },
  {
   "attachments": {},
   "cell_type": "markdown",
   "metadata": {},
   "source": [
    "**UDFs: user-defined functions**\n",
    "* If you want to apply your own function to a column you need to register it as a UDF. \n",
    "\n",
    "* UDFs can be used in a number of ways: using `select()`, `withColumn()`, `filter()`, etc.\n",
    "\n",
    "Let's create a function that extracts the title of the passenger. Names are in the form `Lastname, Title. Firstname`.\n",
    "\n",
    "Don't work"
   ]
  },
  {
   "cell_type": "code",
   "execution_count": 70,
   "metadata": {},
   "outputs": [],
   "source": [
    "from pyspark.sql.functions import *\n",
    "from pyspark.sql.types import *"
   ]
  },
  {
   "cell_type": "code",
   "execution_count": 53,
   "metadata": {},
   "outputs": [],
   "source": [
    "map_self = udf(lambda x:x + 5, IntegerType())"
   ]
  },
  {
   "cell_type": "code",
   "execution_count": 56,
   "metadata": {},
   "outputs": [],
   "source": [
    "import os\n",
    "os.environ['OBJC_DISABLE_INITIALIZE_FORK_SAFETY'] = 'YES'"
   ]
  },
  {
   "cell_type": "code",
   "execution_count": 57,
   "metadata": {},
   "outputs": [
    {
     "ename": "Py4JJavaError",
     "evalue": "An error occurred while calling o308.showString.\n: org.apache.spark.SparkException: Job aborted due to stage failure: Task 0 in stage 38.0 failed 1 times, most recent failure: Lost task 0.0 in stage 38.0 (TID 32) (DESKTOP-OQ1AEH9.mshome.net executor driver): org.apache.spark.SparkException: Python worker failed to connect back.\r\n\tat org.apache.spark.api.python.PythonWorkerFactory.createSimpleWorker(PythonWorkerFactory.scala:188)\r\n\tat org.apache.spark.api.python.PythonWorkerFactory.create(PythonWorkerFactory.scala:108)\r\n\tat org.apache.spark.SparkEnv.createPythonWorker(SparkEnv.scala:121)\r\n\tat org.apache.spark.api.python.BasePythonRunner.compute(PythonRunner.scala:162)\r\n\tat org.apache.spark.api.python.PythonRDD.compute(PythonRDD.scala:65)\r\n\tat org.apache.spark.rdd.RDD.computeOrReadCheckpoint(RDD.scala:373)\r\n\tat org.apache.spark.rdd.RDD.iterator(RDD.scala:337)\r\n\tat org.apache.spark.rdd.MapPartitionsRDD.compute(MapPartitionsRDD.scala:52)\r\n\tat org.apache.spark.rdd.RDD.computeOrReadCheckpoint(RDD.scala:373)\r\n\tat org.apache.spark.rdd.RDD.iterator(RDD.scala:337)\r\n\tat org.apache.spark.rdd.MapPartitionsRDD.compute(MapPartitionsRDD.scala:52)\r\n\tat org.apache.spark.rdd.RDD.computeOrReadCheckpoint(RDD.scala:373)\r\n\tat org.apache.spark.rdd.RDD.iterator(RDD.scala:337)\r\n\tat org.apache.spark.rdd.MapPartitionsRDD.compute(MapPartitionsRDD.scala:52)\r\n\tat org.apache.spark.rdd.RDD.computeOrReadCheckpoint(RDD.scala:373)\r\n\tat org.apache.spark.rdd.RDD.iterator(RDD.scala:337)\r\n\tat org.apache.spark.rdd.MapPartitionsRDD.compute(MapPartitionsRDD.scala:52)\r\n\tat org.apache.spark.rdd.RDD.computeOrReadCheckpoint(RDD.scala:373)\r\n\tat org.apache.spark.rdd.RDD.iterator(RDD.scala:337)\r\n\tat org.apache.spark.rdd.MapPartitionsRDD.compute(MapPartitionsRDD.scala:52)\r\n\tat org.apache.spark.rdd.RDD.computeOrReadCheckpoint(RDD.scala:373)\r\n\tat org.apache.spark.rdd.RDD.iterator(RDD.scala:337)\r\n\tat org.apache.spark.rdd.MapPartitionsRDD.compute(MapPartitionsRDD.scala:52)\r\n\tat org.apache.spark.rdd.RDD.computeOrReadCheckpoint(RDD.scala:373)\r\n\tat org.apache.spark.rdd.RDD.iterator(RDD.scala:337)\r\n\tat org.apache.spark.rdd.MapPartitionsRDD.compute(MapPartitionsRDD.scala:52)\r\n\tat org.apache.spark.rdd.RDD.computeOrReadCheckpoint(RDD.scala:373)\r\n\tat org.apache.spark.rdd.RDD.iterator(RDD.scala:337)\r\n\tat org.apache.spark.rdd.MapPartitionsRDD.compute(MapPartitionsRDD.scala:52)\r\n\tat org.apache.spark.rdd.RDD.computeOrReadCheckpoint(RDD.scala:373)\r\n\tat org.apache.spark.rdd.RDD.iterator(RDD.scala:337)\r\n\tat org.apache.spark.scheduler.ResultTask.runTask(ResultTask.scala:90)\r\n\tat org.apache.spark.scheduler.Task.run(Task.scala:131)\r\n\tat org.apache.spark.executor.Executor$TaskRunner.$anonfun$run$3(Executor.scala:506)\r\n\tat org.apache.spark.util.Utils$.tryWithSafeFinally(Utils.scala:1462)\r\n\tat org.apache.spark.executor.Executor$TaskRunner.run(Executor.scala:509)\r\n\tat java.util.concurrent.ThreadPoolExecutor.runWorker(ThreadPoolExecutor.java:1149)\r\n\tat java.util.concurrent.ThreadPoolExecutor$Worker.run(ThreadPoolExecutor.java:624)\r\n\tat java.lang.Thread.run(Thread.java:748)\r\nCaused by: java.net.SocketTimeoutException: Accept timed out\r\n\tat java.net.DualStackPlainSocketImpl.waitForNewConnection(Native Method)\r\n\tat java.net.DualStackPlainSocketImpl.socketAccept(DualStackPlainSocketImpl.java:135)\r\n\tat java.net.AbstractPlainSocketImpl.accept(AbstractPlainSocketImpl.java:409)\r\n\tat java.net.PlainSocketImpl.accept(PlainSocketImpl.java:199)\r\n\tat java.net.ServerSocket.implAccept(ServerSocket.java:545)\r\n\tat java.net.ServerSocket.accept(ServerSocket.java:513)\r\n\tat org.apache.spark.api.python.PythonWorkerFactory.createSimpleWorker(PythonWorkerFactory.scala:175)\r\n\t... 38 more\r\n\nDriver stacktrace:\r\n\tat org.apache.spark.scheduler.DAGScheduler.failJobAndIndependentStages(DAGScheduler.scala:2454)\r\n\tat org.apache.spark.scheduler.DAGScheduler.$anonfun$abortStage$2(DAGScheduler.scala:2403)\r\n\tat org.apache.spark.scheduler.DAGScheduler.$anonfun$abortStage$2$adapted(DAGScheduler.scala:2402)\r\n\tat scala.collection.mutable.ResizableArray.foreach(ResizableArray.scala:62)\r\n\tat scala.collection.mutable.ResizableArray.foreach$(ResizableArray.scala:55)\r\n\tat scala.collection.mutable.ArrayBuffer.foreach(ArrayBuffer.scala:49)\r\n\tat org.apache.spark.scheduler.DAGScheduler.abortStage(DAGScheduler.scala:2402)\r\n\tat org.apache.spark.scheduler.DAGScheduler.$anonfun$handleTaskSetFailed$1(DAGScheduler.scala:1160)\r\n\tat org.apache.spark.scheduler.DAGScheduler.$anonfun$handleTaskSetFailed$1$adapted(DAGScheduler.scala:1160)\r\n\tat scala.Option.foreach(Option.scala:407)\r\n\tat org.apache.spark.scheduler.DAGScheduler.handleTaskSetFailed(DAGScheduler.scala:1160)\r\n\tat org.apache.spark.scheduler.DAGSchedulerEventProcessLoop.doOnReceive(DAGScheduler.scala:2642)\r\n\tat org.apache.spark.scheduler.DAGSchedulerEventProcessLoop.onReceive(DAGScheduler.scala:2584)\r\n\tat org.apache.spark.scheduler.DAGSchedulerEventProcessLoop.onReceive(DAGScheduler.scala:2573)\r\n\tat org.apache.spark.util.EventLoop$$anon$1.run(EventLoop.scala:49)\r\n\tat org.apache.spark.scheduler.DAGScheduler.runJob(DAGScheduler.scala:938)\r\n\tat org.apache.spark.SparkContext.runJob(SparkContext.scala:2214)\r\n\tat org.apache.spark.SparkContext.runJob(SparkContext.scala:2235)\r\n\tat org.apache.spark.SparkContext.runJob(SparkContext.scala:2254)\r\n\tat org.apache.spark.sql.execution.SparkPlan.executeTake(SparkPlan.scala:476)\r\n\tat org.apache.spark.sql.execution.SparkPlan.executeTake(SparkPlan.scala:429)\r\n\tat org.apache.spark.sql.execution.CollectLimitExec.executeCollect(limit.scala:48)\r\n\tat org.apache.spark.sql.Dataset.collectFromPlan(Dataset.scala:3715)\r\n\tat org.apache.spark.sql.Dataset.$anonfun$head$1(Dataset.scala:2728)\r\n\tat org.apache.spark.sql.Dataset.$anonfun$withAction$1(Dataset.scala:3706)\r\n\tat org.apache.spark.sql.execution.SQLExecution$.$anonfun$withNewExecutionId$5(SQLExecution.scala:103)\r\n\tat org.apache.spark.sql.execution.SQLExecution$.withSQLConfPropagated(SQLExecution.scala:163)\r\n\tat org.apache.spark.sql.execution.SQLExecution$.$anonfun$withNewExecutionId$1(SQLExecution.scala:90)\r\n\tat org.apache.spark.sql.SparkSession.withActive(SparkSession.scala:775)\r\n\tat org.apache.spark.sql.execution.SQLExecution$.withNewExecutionId(SQLExecution.scala:64)\r\n\tat org.apache.spark.sql.Dataset.withAction(Dataset.scala:3704)\r\n\tat org.apache.spark.sql.Dataset.head(Dataset.scala:2728)\r\n\tat org.apache.spark.sql.Dataset.take(Dataset.scala:2935)\r\n\tat org.apache.spark.sql.Dataset.getRows(Dataset.scala:287)\r\n\tat org.apache.spark.sql.Dataset.showString(Dataset.scala:326)\r\n\tat sun.reflect.GeneratedMethodAccessor63.invoke(Unknown Source)\r\n\tat sun.reflect.DelegatingMethodAccessorImpl.invoke(DelegatingMethodAccessorImpl.java:43)\r\n\tat java.lang.reflect.Method.invoke(Method.java:498)\r\n\tat py4j.reflection.MethodInvoker.invoke(MethodInvoker.java:244)\r\n\tat py4j.reflection.ReflectionEngine.invoke(ReflectionEngine.java:357)\r\n\tat py4j.Gateway.invoke(Gateway.java:282)\r\n\tat py4j.commands.AbstractCommand.invokeMethod(AbstractCommand.java:132)\r\n\tat py4j.commands.CallCommand.execute(CallCommand.java:79)\r\n\tat py4j.ClientServerConnection.waitForCommands(ClientServerConnection.java:182)\r\n\tat py4j.ClientServerConnection.run(ClientServerConnection.java:106)\r\n\tat java.lang.Thread.run(Thread.java:748)\r\nCaused by: org.apache.spark.SparkException: Python worker failed to connect back.\r\n\tat org.apache.spark.api.python.PythonWorkerFactory.createSimpleWorker(PythonWorkerFactory.scala:188)\r\n\tat org.apache.spark.api.python.PythonWorkerFactory.create(PythonWorkerFactory.scala:108)\r\n\tat org.apache.spark.SparkEnv.createPythonWorker(SparkEnv.scala:121)\r\n\tat org.apache.spark.api.python.BasePythonRunner.compute(PythonRunner.scala:162)\r\n\tat org.apache.spark.api.python.PythonRDD.compute(PythonRDD.scala:65)\r\n\tat org.apache.spark.rdd.RDD.computeOrReadCheckpoint(RDD.scala:373)\r\n\tat org.apache.spark.rdd.RDD.iterator(RDD.scala:337)\r\n\tat org.apache.spark.rdd.MapPartitionsRDD.compute(MapPartitionsRDD.scala:52)\r\n\tat org.apache.spark.rdd.RDD.computeOrReadCheckpoint(RDD.scala:373)\r\n\tat org.apache.spark.rdd.RDD.iterator(RDD.scala:337)\r\n\tat org.apache.spark.rdd.MapPartitionsRDD.compute(MapPartitionsRDD.scala:52)\r\n\tat org.apache.spark.rdd.RDD.computeOrReadCheckpoint(RDD.scala:373)\r\n\tat org.apache.spark.rdd.RDD.iterator(RDD.scala:337)\r\n\tat org.apache.spark.rdd.MapPartitionsRDD.compute(MapPartitionsRDD.scala:52)\r\n\tat org.apache.spark.rdd.RDD.computeOrReadCheckpoint(RDD.scala:373)\r\n\tat org.apache.spark.rdd.RDD.iterator(RDD.scala:337)\r\n\tat org.apache.spark.rdd.MapPartitionsRDD.compute(MapPartitionsRDD.scala:52)\r\n\tat org.apache.spark.rdd.RDD.computeOrReadCheckpoint(RDD.scala:373)\r\n\tat org.apache.spark.rdd.RDD.iterator(RDD.scala:337)\r\n\tat org.apache.spark.rdd.MapPartitionsRDD.compute(MapPartitionsRDD.scala:52)\r\n\tat org.apache.spark.rdd.RDD.computeOrReadCheckpoint(RDD.scala:373)\r\n\tat org.apache.spark.rdd.RDD.iterator(RDD.scala:337)\r\n\tat org.apache.spark.rdd.MapPartitionsRDD.compute(MapPartitionsRDD.scala:52)\r\n\tat org.apache.spark.rdd.RDD.computeOrReadCheckpoint(RDD.scala:373)\r\n\tat org.apache.spark.rdd.RDD.iterator(RDD.scala:337)\r\n\tat org.apache.spark.rdd.MapPartitionsRDD.compute(MapPartitionsRDD.scala:52)\r\n\tat org.apache.spark.rdd.RDD.computeOrReadCheckpoint(RDD.scala:373)\r\n\tat org.apache.spark.rdd.RDD.iterator(RDD.scala:337)\r\n\tat org.apache.spark.rdd.MapPartitionsRDD.compute(MapPartitionsRDD.scala:52)\r\n\tat org.apache.spark.rdd.RDD.computeOrReadCheckpoint(RDD.scala:373)\r\n\tat org.apache.spark.rdd.RDD.iterator(RDD.scala:337)\r\n\tat org.apache.spark.scheduler.ResultTask.runTask(ResultTask.scala:90)\r\n\tat org.apache.spark.scheduler.Task.run(Task.scala:131)\r\n\tat org.apache.spark.executor.Executor$TaskRunner.$anonfun$run$3(Executor.scala:506)\r\n\tat org.apache.spark.util.Utils$.tryWithSafeFinally(Utils.scala:1462)\r\n\tat org.apache.spark.executor.Executor$TaskRunner.run(Executor.scala:509)\r\n\tat java.util.concurrent.ThreadPoolExecutor.runWorker(ThreadPoolExecutor.java:1149)\r\n\tat java.util.concurrent.ThreadPoolExecutor$Worker.run(ThreadPoolExecutor.java:624)\r\n\t... 1 more\r\nCaused by: java.net.SocketTimeoutException: Accept timed out\r\n\tat java.net.DualStackPlainSocketImpl.waitForNewConnection(Native Method)\r\n\tat java.net.DualStackPlainSocketImpl.socketAccept(DualStackPlainSocketImpl.java:135)\r\n\tat java.net.AbstractPlainSocketImpl.accept(AbstractPlainSocketImpl.java:409)\r\n\tat java.net.PlainSocketImpl.accept(PlainSocketImpl.java:199)\r\n\tat java.net.ServerSocket.implAccept(ServerSocket.java:545)\r\n\tat java.net.ServerSocket.accept(ServerSocket.java:513)\r\n\tat org.apache.spark.api.python.PythonWorkerFactory.createSimpleWorker(PythonWorkerFactory.scala:175)\r\n\t... 38 more\r\n",
     "output_type": "error",
     "traceback": [
      "\u001b[1;31m---------------------------------------------------------------------------\u001b[0m",
      "\u001b[1;31mPy4JJavaError\u001b[0m                             Traceback (most recent call last)",
      "\u001b[1;32m~\\AppData\\Local\\Temp/ipykernel_10380/1505381774.py\u001b[0m in \u001b[0;36m<module>\u001b[1;34m\u001b[0m\n\u001b[0;32m     12\u001b[0m \u001b[1;33m\u001b[0m\u001b[0m\n\u001b[0;32m     13\u001b[0m \u001b[0mdf\u001b[0m \u001b[1;33m=\u001b[0m \u001b[0mspark\u001b[0m\u001b[1;33m.\u001b[0m\u001b[0mcreateDataFrame\u001b[0m\u001b[1;33m(\u001b[0m\u001b[1;33m[\u001b[0m\u001b[1;33m(\u001b[0m\u001b[1;36m1\u001b[0m\u001b[1;33m,\u001b[0m \u001b[1;34m\"John Doe\"\u001b[0m\u001b[1;33m,\u001b[0m \u001b[1;36m21\u001b[0m\u001b[1;33m)\u001b[0m\u001b[1;33m]\u001b[0m\u001b[1;33m,\u001b[0m \u001b[1;33m(\u001b[0m\u001b[1;34m\"id\"\u001b[0m\u001b[1;33m,\u001b[0m \u001b[1;34m\"name\"\u001b[0m\u001b[1;33m,\u001b[0m \u001b[1;34m\"age\"\u001b[0m\u001b[1;33m)\u001b[0m\u001b[1;33m)\u001b[0m\u001b[1;33m\u001b[0m\u001b[1;33m\u001b[0m\u001b[0m\n\u001b[1;32m---> 14\u001b[1;33m \u001b[0mdf\u001b[0m\u001b[1;33m.\u001b[0m\u001b[0mselect\u001b[0m\u001b[1;33m(\u001b[0m\u001b[0mslen\u001b[0m\u001b[1;33m(\u001b[0m\u001b[1;34m\"name\"\u001b[0m\u001b[1;33m)\u001b[0m\u001b[1;33m.\u001b[0m\u001b[0malias\u001b[0m\u001b[1;33m(\u001b[0m\u001b[1;34m\"slen(name)\"\u001b[0m\u001b[1;33m)\u001b[0m\u001b[1;33m,\u001b[0m \u001b[0mto_upper\u001b[0m\u001b[1;33m(\u001b[0m\u001b[1;34m\"name\"\u001b[0m\u001b[1;33m)\u001b[0m\u001b[1;33m,\u001b[0m \u001b[0madd_one\u001b[0m\u001b[1;33m(\u001b[0m\u001b[1;34m\"age\"\u001b[0m\u001b[1;33m)\u001b[0m\u001b[1;33m)\u001b[0m\u001b[1;33m.\u001b[0m\u001b[0mshow\u001b[0m\u001b[1;33m(\u001b[0m\u001b[1;33m)\u001b[0m\u001b[1;33m\u001b[0m\u001b[1;33m\u001b[0m\u001b[0m\n\u001b[0m",
      "\u001b[1;32mc:\\Users\\LENOVO\\anaconda3\\lib\\site-packages\\pyspark\\sql\\dataframe.py\u001b[0m in \u001b[0;36mshow\u001b[1;34m(self, n, truncate, vertical)\u001b[0m\n\u001b[0;32m    492\u001b[0m \u001b[1;33m\u001b[0m\u001b[0m\n\u001b[0;32m    493\u001b[0m         \u001b[1;32mif\u001b[0m \u001b[0misinstance\u001b[0m\u001b[1;33m(\u001b[0m\u001b[0mtruncate\u001b[0m\u001b[1;33m,\u001b[0m \u001b[0mbool\u001b[0m\u001b[1;33m)\u001b[0m \u001b[1;32mand\u001b[0m \u001b[0mtruncate\u001b[0m\u001b[1;33m:\u001b[0m\u001b[1;33m\u001b[0m\u001b[1;33m\u001b[0m\u001b[0m\n\u001b[1;32m--> 494\u001b[1;33m             \u001b[0mprint\u001b[0m\u001b[1;33m(\u001b[0m\u001b[0mself\u001b[0m\u001b[1;33m.\u001b[0m\u001b[0m_jdf\u001b[0m\u001b[1;33m.\u001b[0m\u001b[0mshowString\u001b[0m\u001b[1;33m(\u001b[0m\u001b[0mn\u001b[0m\u001b[1;33m,\u001b[0m \u001b[1;36m20\u001b[0m\u001b[1;33m,\u001b[0m \u001b[0mvertical\u001b[0m\u001b[1;33m)\u001b[0m\u001b[1;33m)\u001b[0m\u001b[1;33m\u001b[0m\u001b[1;33m\u001b[0m\u001b[0m\n\u001b[0m\u001b[0;32m    495\u001b[0m         \u001b[1;32melse\u001b[0m\u001b[1;33m:\u001b[0m\u001b[1;33m\u001b[0m\u001b[1;33m\u001b[0m\u001b[0m\n\u001b[0;32m    496\u001b[0m             \u001b[1;32mtry\u001b[0m\u001b[1;33m:\u001b[0m\u001b[1;33m\u001b[0m\u001b[1;33m\u001b[0m\u001b[0m\n",
      "\u001b[1;32mc:\\Users\\LENOVO\\anaconda3\\lib\\site-packages\\py4j\\java_gateway.py\u001b[0m in \u001b[0;36m__call__\u001b[1;34m(self, *args)\u001b[0m\n\u001b[0;32m   1319\u001b[0m \u001b[1;33m\u001b[0m\u001b[0m\n\u001b[0;32m   1320\u001b[0m         \u001b[0manswer\u001b[0m \u001b[1;33m=\u001b[0m \u001b[0mself\u001b[0m\u001b[1;33m.\u001b[0m\u001b[0mgateway_client\u001b[0m\u001b[1;33m.\u001b[0m\u001b[0msend_command\u001b[0m\u001b[1;33m(\u001b[0m\u001b[0mcommand\u001b[0m\u001b[1;33m)\u001b[0m\u001b[1;33m\u001b[0m\u001b[1;33m\u001b[0m\u001b[0m\n\u001b[1;32m-> 1321\u001b[1;33m         return_value = get_return_value(\n\u001b[0m\u001b[0;32m   1322\u001b[0m             answer, self.gateway_client, self.target_id, self.name)\n\u001b[0;32m   1323\u001b[0m \u001b[1;33m\u001b[0m\u001b[0m\n",
      "\u001b[1;32mc:\\Users\\LENOVO\\anaconda3\\lib\\site-packages\\pyspark\\sql\\utils.py\u001b[0m in \u001b[0;36mdeco\u001b[1;34m(*a, **kw)\u001b[0m\n\u001b[0;32m    109\u001b[0m     \u001b[1;32mdef\u001b[0m \u001b[0mdeco\u001b[0m\u001b[1;33m(\u001b[0m\u001b[1;33m*\u001b[0m\u001b[0ma\u001b[0m\u001b[1;33m,\u001b[0m \u001b[1;33m**\u001b[0m\u001b[0mkw\u001b[0m\u001b[1;33m)\u001b[0m\u001b[1;33m:\u001b[0m\u001b[1;33m\u001b[0m\u001b[1;33m\u001b[0m\u001b[0m\n\u001b[0;32m    110\u001b[0m         \u001b[1;32mtry\u001b[0m\u001b[1;33m:\u001b[0m\u001b[1;33m\u001b[0m\u001b[1;33m\u001b[0m\u001b[0m\n\u001b[1;32m--> 111\u001b[1;33m             \u001b[1;32mreturn\u001b[0m \u001b[0mf\u001b[0m\u001b[1;33m(\u001b[0m\u001b[1;33m*\u001b[0m\u001b[0ma\u001b[0m\u001b[1;33m,\u001b[0m \u001b[1;33m**\u001b[0m\u001b[0mkw\u001b[0m\u001b[1;33m)\u001b[0m\u001b[1;33m\u001b[0m\u001b[1;33m\u001b[0m\u001b[0m\n\u001b[0m\u001b[0;32m    112\u001b[0m         \u001b[1;32mexcept\u001b[0m \u001b[0mpy4j\u001b[0m\u001b[1;33m.\u001b[0m\u001b[0mprotocol\u001b[0m\u001b[1;33m.\u001b[0m\u001b[0mPy4JJavaError\u001b[0m \u001b[1;32mas\u001b[0m \u001b[0me\u001b[0m\u001b[1;33m:\u001b[0m\u001b[1;33m\u001b[0m\u001b[1;33m\u001b[0m\u001b[0m\n\u001b[0;32m    113\u001b[0m             \u001b[0mconverted\u001b[0m \u001b[1;33m=\u001b[0m \u001b[0mconvert_exception\u001b[0m\u001b[1;33m(\u001b[0m\u001b[0me\u001b[0m\u001b[1;33m.\u001b[0m\u001b[0mjava_exception\u001b[0m\u001b[1;33m)\u001b[0m\u001b[1;33m\u001b[0m\u001b[1;33m\u001b[0m\u001b[0m\n",
      "\u001b[1;32mc:\\Users\\LENOVO\\anaconda3\\lib\\site-packages\\py4j\\protocol.py\u001b[0m in \u001b[0;36mget_return_value\u001b[1;34m(answer, gateway_client, target_id, name)\u001b[0m\n\u001b[0;32m    324\u001b[0m             \u001b[0mvalue\u001b[0m \u001b[1;33m=\u001b[0m \u001b[0mOUTPUT_CONVERTER\u001b[0m\u001b[1;33m[\u001b[0m\u001b[0mtype\u001b[0m\u001b[1;33m]\u001b[0m\u001b[1;33m(\u001b[0m\u001b[0manswer\u001b[0m\u001b[1;33m[\u001b[0m\u001b[1;36m2\u001b[0m\u001b[1;33m:\u001b[0m\u001b[1;33m]\u001b[0m\u001b[1;33m,\u001b[0m \u001b[0mgateway_client\u001b[0m\u001b[1;33m)\u001b[0m\u001b[1;33m\u001b[0m\u001b[1;33m\u001b[0m\u001b[0m\n\u001b[0;32m    325\u001b[0m             \u001b[1;32mif\u001b[0m \u001b[0manswer\u001b[0m\u001b[1;33m[\u001b[0m\u001b[1;36m1\u001b[0m\u001b[1;33m]\u001b[0m \u001b[1;33m==\u001b[0m \u001b[0mREFERENCE_TYPE\u001b[0m\u001b[1;33m:\u001b[0m\u001b[1;33m\u001b[0m\u001b[1;33m\u001b[0m\u001b[0m\n\u001b[1;32m--> 326\u001b[1;33m                 raise Py4JJavaError(\n\u001b[0m\u001b[0;32m    327\u001b[0m                     \u001b[1;34m\"An error occurred while calling {0}{1}{2}.\\n\"\u001b[0m\u001b[1;33m.\u001b[0m\u001b[1;33m\u001b[0m\u001b[1;33m\u001b[0m\u001b[0m\n\u001b[0;32m    328\u001b[0m                     format(target_id, \".\", name), value)\n",
      "\u001b[1;31mPy4JJavaError\u001b[0m: An error occurred while calling o308.showString.\n: org.apache.spark.SparkException: Job aborted due to stage failure: Task 0 in stage 38.0 failed 1 times, most recent failure: Lost task 0.0 in stage 38.0 (TID 32) (DESKTOP-OQ1AEH9.mshome.net executor driver): org.apache.spark.SparkException: Python worker failed to connect back.\r\n\tat org.apache.spark.api.python.PythonWorkerFactory.createSimpleWorker(PythonWorkerFactory.scala:188)\r\n\tat org.apache.spark.api.python.PythonWorkerFactory.create(PythonWorkerFactory.scala:108)\r\n\tat org.apache.spark.SparkEnv.createPythonWorker(SparkEnv.scala:121)\r\n\tat org.apache.spark.api.python.BasePythonRunner.compute(PythonRunner.scala:162)\r\n\tat org.apache.spark.api.python.PythonRDD.compute(PythonRDD.scala:65)\r\n\tat org.apache.spark.rdd.RDD.computeOrReadCheckpoint(RDD.scala:373)\r\n\tat org.apache.spark.rdd.RDD.iterator(RDD.scala:337)\r\n\tat org.apache.spark.rdd.MapPartitionsRDD.compute(MapPartitionsRDD.scala:52)\r\n\tat org.apache.spark.rdd.RDD.computeOrReadCheckpoint(RDD.scala:373)\r\n\tat org.apache.spark.rdd.RDD.iterator(RDD.scala:337)\r\n\tat org.apache.spark.rdd.MapPartitionsRDD.compute(MapPartitionsRDD.scala:52)\r\n\tat org.apache.spark.rdd.RDD.computeOrReadCheckpoint(RDD.scala:373)\r\n\tat org.apache.spark.rdd.RDD.iterator(RDD.scala:337)\r\n\tat org.apache.spark.rdd.MapPartitionsRDD.compute(MapPartitionsRDD.scala:52)\r\n\tat org.apache.spark.rdd.RDD.computeOrReadCheckpoint(RDD.scala:373)\r\n\tat org.apache.spark.rdd.RDD.iterator(RDD.scala:337)\r\n\tat org.apache.spark.rdd.MapPartitionsRDD.compute(MapPartitionsRDD.scala:52)\r\n\tat org.apache.spark.rdd.RDD.computeOrReadCheckpoint(RDD.scala:373)\r\n\tat org.apache.spark.rdd.RDD.iterator(RDD.scala:337)\r\n\tat org.apache.spark.rdd.MapPartitionsRDD.compute(MapPartitionsRDD.scala:52)\r\n\tat org.apache.spark.rdd.RDD.computeOrReadCheckpoint(RDD.scala:373)\r\n\tat org.apache.spark.rdd.RDD.iterator(RDD.scala:337)\r\n\tat org.apache.spark.rdd.MapPartitionsRDD.compute(MapPartitionsRDD.scala:52)\r\n\tat org.apache.spark.rdd.RDD.computeOrReadCheckpoint(RDD.scala:373)\r\n\tat org.apache.spark.rdd.RDD.iterator(RDD.scala:337)\r\n\tat org.apache.spark.rdd.MapPartitionsRDD.compute(MapPartitionsRDD.scala:52)\r\n\tat org.apache.spark.rdd.RDD.computeOrReadCheckpoint(RDD.scala:373)\r\n\tat org.apache.spark.rdd.RDD.iterator(RDD.scala:337)\r\n\tat org.apache.spark.rdd.MapPartitionsRDD.compute(MapPartitionsRDD.scala:52)\r\n\tat org.apache.spark.rdd.RDD.computeOrReadCheckpoint(RDD.scala:373)\r\n\tat org.apache.spark.rdd.RDD.iterator(RDD.scala:337)\r\n\tat org.apache.spark.scheduler.ResultTask.runTask(ResultTask.scala:90)\r\n\tat org.apache.spark.scheduler.Task.run(Task.scala:131)\r\n\tat org.apache.spark.executor.Executor$TaskRunner.$anonfun$run$3(Executor.scala:506)\r\n\tat org.apache.spark.util.Utils$.tryWithSafeFinally(Utils.scala:1462)\r\n\tat org.apache.spark.executor.Executor$TaskRunner.run(Executor.scala:509)\r\n\tat java.util.concurrent.ThreadPoolExecutor.runWorker(ThreadPoolExecutor.java:1149)\r\n\tat java.util.concurrent.ThreadPoolExecutor$Worker.run(ThreadPoolExecutor.java:624)\r\n\tat java.lang.Thread.run(Thread.java:748)\r\nCaused by: java.net.SocketTimeoutException: Accept timed out\r\n\tat java.net.DualStackPlainSocketImpl.waitForNewConnection(Native Method)\r\n\tat java.net.DualStackPlainSocketImpl.socketAccept(DualStackPlainSocketImpl.java:135)\r\n\tat java.net.AbstractPlainSocketImpl.accept(AbstractPlainSocketImpl.java:409)\r\n\tat java.net.PlainSocketImpl.accept(PlainSocketImpl.java:199)\r\n\tat java.net.ServerSocket.implAccept(ServerSocket.java:545)\r\n\tat java.net.ServerSocket.accept(ServerSocket.java:513)\r\n\tat org.apache.spark.api.python.PythonWorkerFactory.createSimpleWorker(PythonWorkerFactory.scala:175)\r\n\t... 38 more\r\n\nDriver stacktrace:\r\n\tat org.apache.spark.scheduler.DAGScheduler.failJobAndIndependentStages(DAGScheduler.scala:2454)\r\n\tat org.apache.spark.scheduler.DAGScheduler.$anonfun$abortStage$2(DAGScheduler.scala:2403)\r\n\tat org.apache.spark.scheduler.DAGScheduler.$anonfun$abortStage$2$adapted(DAGScheduler.scala:2402)\r\n\tat scala.collection.mutable.ResizableArray.foreach(ResizableArray.scala:62)\r\n\tat scala.collection.mutable.ResizableArray.foreach$(ResizableArray.scala:55)\r\n\tat scala.collection.mutable.ArrayBuffer.foreach(ArrayBuffer.scala:49)\r\n\tat org.apache.spark.scheduler.DAGScheduler.abortStage(DAGScheduler.scala:2402)\r\n\tat org.apache.spark.scheduler.DAGScheduler.$anonfun$handleTaskSetFailed$1(DAGScheduler.scala:1160)\r\n\tat org.apache.spark.scheduler.DAGScheduler.$anonfun$handleTaskSetFailed$1$adapted(DAGScheduler.scala:1160)\r\n\tat scala.Option.foreach(Option.scala:407)\r\n\tat org.apache.spark.scheduler.DAGScheduler.handleTaskSetFailed(DAGScheduler.scala:1160)\r\n\tat org.apache.spark.scheduler.DAGSchedulerEventProcessLoop.doOnReceive(DAGScheduler.scala:2642)\r\n\tat org.apache.spark.scheduler.DAGSchedulerEventProcessLoop.onReceive(DAGScheduler.scala:2584)\r\n\tat org.apache.spark.scheduler.DAGSchedulerEventProcessLoop.onReceive(DAGScheduler.scala:2573)\r\n\tat org.apache.spark.util.EventLoop$$anon$1.run(EventLoop.scala:49)\r\n\tat org.apache.spark.scheduler.DAGScheduler.runJob(DAGScheduler.scala:938)\r\n\tat org.apache.spark.SparkContext.runJob(SparkContext.scala:2214)\r\n\tat org.apache.spark.SparkContext.runJob(SparkContext.scala:2235)\r\n\tat org.apache.spark.SparkContext.runJob(SparkContext.scala:2254)\r\n\tat org.apache.spark.sql.execution.SparkPlan.executeTake(SparkPlan.scala:476)\r\n\tat org.apache.spark.sql.execution.SparkPlan.executeTake(SparkPlan.scala:429)\r\n\tat org.apache.spark.sql.execution.CollectLimitExec.executeCollect(limit.scala:48)\r\n\tat org.apache.spark.sql.Dataset.collectFromPlan(Dataset.scala:3715)\r\n\tat org.apache.spark.sql.Dataset.$anonfun$head$1(Dataset.scala:2728)\r\n\tat org.apache.spark.sql.Dataset.$anonfun$withAction$1(Dataset.scala:3706)\r\n\tat org.apache.spark.sql.execution.SQLExecution$.$anonfun$withNewExecutionId$5(SQLExecution.scala:103)\r\n\tat org.apache.spark.sql.execution.SQLExecution$.withSQLConfPropagated(SQLExecution.scala:163)\r\n\tat org.apache.spark.sql.execution.SQLExecution$.$anonfun$withNewExecutionId$1(SQLExecution.scala:90)\r\n\tat org.apache.spark.sql.SparkSession.withActive(SparkSession.scala:775)\r\n\tat org.apache.spark.sql.execution.SQLExecution$.withNewExecutionId(SQLExecution.scala:64)\r\n\tat org.apache.spark.sql.Dataset.withAction(Dataset.scala:3704)\r\n\tat org.apache.spark.sql.Dataset.head(Dataset.scala:2728)\r\n\tat org.apache.spark.sql.Dataset.take(Dataset.scala:2935)\r\n\tat org.apache.spark.sql.Dataset.getRows(Dataset.scala:287)\r\n\tat org.apache.spark.sql.Dataset.showString(Dataset.scala:326)\r\n\tat sun.reflect.GeneratedMethodAccessor63.invoke(Unknown Source)\r\n\tat sun.reflect.DelegatingMethodAccessorImpl.invoke(DelegatingMethodAccessorImpl.java:43)\r\n\tat java.lang.reflect.Method.invoke(Method.java:498)\r\n\tat py4j.reflection.MethodInvoker.invoke(MethodInvoker.java:244)\r\n\tat py4j.reflection.ReflectionEngine.invoke(ReflectionEngine.java:357)\r\n\tat py4j.Gateway.invoke(Gateway.java:282)\r\n\tat py4j.commands.AbstractCommand.invokeMethod(AbstractCommand.java:132)\r\n\tat py4j.commands.CallCommand.execute(CallCommand.java:79)\r\n\tat py4j.ClientServerConnection.waitForCommands(ClientServerConnection.java:182)\r\n\tat py4j.ClientServerConnection.run(ClientServerConnection.java:106)\r\n\tat java.lang.Thread.run(Thread.java:748)\r\nCaused by: org.apache.spark.SparkException: Python worker failed to connect back.\r\n\tat org.apache.spark.api.python.PythonWorkerFactory.createSimpleWorker(PythonWorkerFactory.scala:188)\r\n\tat org.apache.spark.api.python.PythonWorkerFactory.create(PythonWorkerFactory.scala:108)\r\n\tat org.apache.spark.SparkEnv.createPythonWorker(SparkEnv.scala:121)\r\n\tat org.apache.spark.api.python.BasePythonRunner.compute(PythonRunner.scala:162)\r\n\tat org.apache.spark.api.python.PythonRDD.compute(PythonRDD.scala:65)\r\n\tat org.apache.spark.rdd.RDD.computeOrReadCheckpoint(RDD.scala:373)\r\n\tat org.apache.spark.rdd.RDD.iterator(RDD.scala:337)\r\n\tat org.apache.spark.rdd.MapPartitionsRDD.compute(MapPartitionsRDD.scala:52)\r\n\tat org.apache.spark.rdd.RDD.computeOrReadCheckpoint(RDD.scala:373)\r\n\tat org.apache.spark.rdd.RDD.iterator(RDD.scala:337)\r\n\tat org.apache.spark.rdd.MapPartitionsRDD.compute(MapPartitionsRDD.scala:52)\r\n\tat org.apache.spark.rdd.RDD.computeOrReadCheckpoint(RDD.scala:373)\r\n\tat org.apache.spark.rdd.RDD.iterator(RDD.scala:337)\r\n\tat org.apache.spark.rdd.MapPartitionsRDD.compute(MapPartitionsRDD.scala:52)\r\n\tat org.apache.spark.rdd.RDD.computeOrReadCheckpoint(RDD.scala:373)\r\n\tat org.apache.spark.rdd.RDD.iterator(RDD.scala:337)\r\n\tat org.apache.spark.rdd.MapPartitionsRDD.compute(MapPartitionsRDD.scala:52)\r\n\tat org.apache.spark.rdd.RDD.computeOrReadCheckpoint(RDD.scala:373)\r\n\tat org.apache.spark.rdd.RDD.iterator(RDD.scala:337)\r\n\tat org.apache.spark.rdd.MapPartitionsRDD.compute(MapPartitionsRDD.scala:52)\r\n\tat org.apache.spark.rdd.RDD.computeOrReadCheckpoint(RDD.scala:373)\r\n\tat org.apache.spark.rdd.RDD.iterator(RDD.scala:337)\r\n\tat org.apache.spark.rdd.MapPartitionsRDD.compute(MapPartitionsRDD.scala:52)\r\n\tat org.apache.spark.rdd.RDD.computeOrReadCheckpoint(RDD.scala:373)\r\n\tat org.apache.spark.rdd.RDD.iterator(RDD.scala:337)\r\n\tat org.apache.spark.rdd.MapPartitionsRDD.compute(MapPartitionsRDD.scala:52)\r\n\tat org.apache.spark.rdd.RDD.computeOrReadCheckpoint(RDD.scala:373)\r\n\tat org.apache.spark.rdd.RDD.iterator(RDD.scala:337)\r\n\tat org.apache.spark.rdd.MapPartitionsRDD.compute(MapPartitionsRDD.scala:52)\r\n\tat org.apache.spark.rdd.RDD.computeOrReadCheckpoint(RDD.scala:373)\r\n\tat org.apache.spark.rdd.RDD.iterator(RDD.scala:337)\r\n\tat org.apache.spark.scheduler.ResultTask.runTask(ResultTask.scala:90)\r\n\tat org.apache.spark.scheduler.Task.run(Task.scala:131)\r\n\tat org.apache.spark.executor.Executor$TaskRunner.$anonfun$run$3(Executor.scala:506)\r\n\tat org.apache.spark.util.Utils$.tryWithSafeFinally(Utils.scala:1462)\r\n\tat org.apache.spark.executor.Executor$TaskRunner.run(Executor.scala:509)\r\n\tat java.util.concurrent.ThreadPoolExecutor.runWorker(ThreadPoolExecutor.java:1149)\r\n\tat java.util.concurrent.ThreadPoolExecutor$Worker.run(ThreadPoolExecutor.java:624)\r\n\t... 1 more\r\nCaused by: java.net.SocketTimeoutException: Accept timed out\r\n\tat java.net.DualStackPlainSocketImpl.waitForNewConnection(Native Method)\r\n\tat java.net.DualStackPlainSocketImpl.socketAccept(DualStackPlainSocketImpl.java:135)\r\n\tat java.net.AbstractPlainSocketImpl.accept(AbstractPlainSocketImpl.java:409)\r\n\tat java.net.PlainSocketImpl.accept(PlainSocketImpl.java:199)\r\n\tat java.net.ServerSocket.implAccept(ServerSocket.java:545)\r\n\tat java.net.ServerSocket.accept(ServerSocket.java:513)\r\n\tat org.apache.spark.api.python.PythonWorkerFactory.createSimpleWorker(PythonWorkerFactory.scala:175)\r\n\t... 38 more\r\n"
     ]
    }
   ],
   "source": [
    "from pyspark.sql.types import IntegerType\n",
    "slen = udf(lambda s: len(s), IntegerType())\n",
    "@udf\n",
    "def to_upper(s):\n",
    "    if s is not None:\n",
    "        return s.upper()\n",
    "\n",
    "@udf(returnType=IntegerType())\n",
    "def add_one(x):\n",
    "    if x is not None:\n",
    "        return x + 1\n",
    "\n",
    "df = spark.createDataFrame([(1, \"John Doe\", 21)], (\"id\", \"name\", \"age\"))\n",
    "df.select(slen(\"name\").alias(\"slen(name)\"), to_upper(\"name\"), add_one(\"age\")).show()"
   ]
  },
  {
   "attachments": {},
   "cell_type": "markdown",
   "metadata": {},
   "source": [
    "**Joins**\n",
    "\n",
    "syntax: *DataFrame.join(other, on=None, how=None)*\n",
    "* how: inner, outer, left_outer, right_outer, leftsemi"
   ]
  },
  {
   "cell_type": "code",
   "execution_count": 61,
   "metadata": {},
   "outputs": [],
   "source": [
    "users = spark.read\\\n",
    "    .option(\"inferSchema\", True)\\\n",
    "        .option(\"header\", True)\\\n",
    "            .csv(path = './assets/files/users.csv')\n",
    "\n",
    "sales = spark.read\\\n",
    "    .option(\"inferSchema\",True)\\\n",
    "        .option(\"header\", True)\\\n",
    "            .csv(path = './assets/files/sales_normalize.csv')"
   ]
  },
  {
   "cell_type": "code",
   "execution_count": 62,
   "metadata": {},
   "outputs": [],
   "source": [
    "joinned = users.join(sales, on='user_id', how='inner')"
   ]
  },
  {
   "cell_type": "code",
   "execution_count": 69,
   "metadata": {},
   "outputs": [
    {
     "name": "stdout",
     "output_type": "stream",
     "text": [
      "root\n",
      " |-- user_id: integer (nullable = true)\n",
      " |-- ages: integer (nullable = true)\n",
      " |-- department: string (nullable = true)\n",
      " |-- dates: string (nullable = true)\n",
      " |-- product_id: integer (nullable = true)\n",
      " |-- sale_price: double (nullable = true)\n",
      " |-- quantity: integer (nullable = true)\n",
      " |-- seller_id: integer (nullable = true)\n",
      " |-- sale_date: timestamp (nullable = true)\n",
      " |-- sales_id: integer (nullable = true)\n",
      "\n"
     ]
    }
   ],
   "source": [
    "joinned.printSchema()"
   ]
  },
  {
   "attachments": {},
   "cell_type": "markdown",
   "metadata": {},
   "source": [
    "**windows**\n",
    "\n",
    "It is similar to other sql "
   ]
  },
  {
   "cell_type": "code",
   "execution_count": 114,
   "metadata": {},
   "outputs": [],
   "source": [
    "from pyspark.sql.window import Window"
   ]
  },
  {
   "cell_type": "code",
   "execution_count": 23,
   "metadata": {},
   "outputs": [],
   "source": [
    "window_category = Window\\\n",
    "    .partitionBy('category_id')\\\n",
    "        .orderBy('discount')\n",
    "\n",
    "products_with_rank = products.withColumn('rank', functions.percent_rank().over(window_category))"
   ]
  },
  {
   "attachments": {},
   "cell_type": "markdown",
   "metadata": {},
   "source": [
    "Here we compute the average of products with the 50% higher prices for each category"
   ]
  },
  {
   "cell_type": "code",
   "execution_count": 24,
   "metadata": {},
   "outputs": [
    {
     "name": "stdout",
     "output_type": "stream",
     "text": [
      "+-----------+-------------------+\n",
      "|category_id|avg(current_prices)|\n",
      "+-----------+-------------------+\n",
      "|        100|   31.1178870981316|\n",
      "|        101|  35.40804080025515|\n",
      "|        102| 37.140320938019116|\n",
      "|        103|  30.76639310722329|\n",
      "|        104|  36.69445489336907|\n",
      "|        105|  34.82490326018745|\n",
      "|        106|  35.42701456648857|\n",
      "|        107|  35.32405595977966|\n",
      "|        108|  42.83660698596477|\n",
      "|        109| 29.900530156809616|\n",
      "+-----------+-------------------+\n",
      "only showing top 10 rows\n",
      "\n"
     ]
    }
   ],
   "source": [
    "products_with_rank.filter(functions.col('rank')>0.5).groupBy('category_id')\\\n",
    "    .agg(functions.avg('current_prices')).show(10)"
   ]
  },
  {
   "attachments": {},
   "cell_type": "markdown",
   "metadata": {},
   "source": [
    "### Hive Queries Using Spark SQL"
   ]
  },
  {
   "attachments": {},
   "cell_type": "markdown",
   "metadata": {},
   "source": [
    "First we create a template view, then pass any sql statements"
   ]
  },
  {
   "cell_type": "code",
   "execution_count": 71,
   "metadata": {},
   "outputs": [],
   "source": [
    "# Create a template\n",
    "products.createOrReplaceTempView(\"products\")"
   ]
  },
  {
   "cell_type": "code",
   "execution_count": 72,
   "metadata": {},
   "outputs": [
    {
     "name": "stdout",
     "output_type": "stream",
     "text": [
      "+---------+---------+-----------+\n",
      "|namespace|tableName|isTemporary|\n",
      "+---------+---------+-----------+\n",
      "|         | products|       true|\n",
      "+---------+---------+-----------+\n",
      "\n"
     ]
    }
   ],
   "source": [
    "response = spark.sql(\"show tables\")\n",
    "response.show()"
   ]
  },
  {
   "cell_type": "code",
   "execution_count": 73,
   "metadata": {},
   "outputs": [],
   "source": [
    "response = spark.sql(\"\"\"select * from products limit 5\"\"\")"
   ]
  },
  {
   "cell_type": "code",
   "execution_count": 74,
   "metadata": {},
   "outputs": [
    {
     "name": "stdout",
     "output_type": "stream",
     "text": [
      "+----------+-----------+------------------+------------------+-------------------+\n",
      "|product_id|category_id|    current_prices|        old_prices|           discount|\n",
      "+----------+-----------+------------------+------------------+-------------------+\n",
      "|     18006|        114| 38.35763397762942| 43.97786811127209| 0.1277968754515895|\n",
      "|     10912|        105|32.753377759884735|36.723643207569665|0.10811197095136135|\n",
      "|     13871|        133| 35.12974308333188| 37.73788433752289|0.06911201568334153|\n",
      "|     15350|        148|  35.9508433587602| 39.83733253400052|0.09755897114655603|\n",
      "|     17798|        165| 27.89263387252526| 32.14430495401886|0.13226825366345432|\n",
      "+----------+-----------+------------------+------------------+-------------------+\n",
      "\n"
     ]
    }
   ],
   "source": [
    "response.show()"
   ]
  },
  {
   "attachments": {},
   "cell_type": "markdown",
   "metadata": {},
   "source": [
    "### Saving Dataframe Output\n",
    "\n",
    "**Writing Data to Files**\n",
    "\n",
    "Don't work"
   ]
  },
  {
   "cell_type": "code",
   "execution_count": 92,
   "metadata": {},
   "outputs": [
    {
     "name": "stdout",
     "output_type": "stream",
     "text": [
      "+----------+-----------+------------------+------------------+-------------------+\n",
      "|product_id|category_id|    current_prices|        old_prices|           discount|\n",
      "+----------+-----------+------------------+------------------+-------------------+\n",
      "|     18006|        114| 38.35763397762942| 43.97786811127209| 0.1277968754515895|\n",
      "|     10912|        105|32.753377759884735|36.723643207569665|0.10811197095136135|\n",
      "|     13871|        133| 35.12974308333188| 37.73788433752289|0.06911201568334153|\n",
      "|     15350|        148|  35.9508433587602| 39.83733253400052|0.09755897114655603|\n",
      "|     17798|        165| 27.89263387252526| 32.14430495401886|0.13226825366345432|\n",
      "+----------+-----------+------------------+------------------+-------------------+\n",
      "\n"
     ]
    }
   ],
   "source": [
    "response.show()"
   ]
  },
  {
   "cell_type": "code",
   "execution_count": 96,
   "metadata": {},
   "outputs": [
    {
     "ename": "Py4JJavaError",
     "evalue": "An error occurred while calling o475.csv.\n: org.apache.spark.SparkException: Job aborted.\r\n\tat org.apache.spark.sql.errors.QueryExecutionErrors$.jobAbortedError(QueryExecutionErrors.scala:496)\r\n\tat org.apache.spark.sql.execution.datasources.FileFormatWriter$.write(FileFormatWriter.scala:251)\r\n\tat org.apache.spark.sql.execution.datasources.InsertIntoHadoopFsRelationCommand.run(InsertIntoHadoopFsRelationCommand.scala:186)\r\n\tat org.apache.spark.sql.execution.command.DataWritingCommandExec.sideEffectResult$lzycompute(commands.scala:113)\r\n\tat org.apache.spark.sql.execution.command.DataWritingCommandExec.sideEffectResult(commands.scala:111)\r\n\tat org.apache.spark.sql.execution.command.DataWritingCommandExec.executeCollect(commands.scala:125)\r\n\tat org.apache.spark.sql.execution.QueryExecution$$anonfun$eagerlyExecuteCommands$1.$anonfun$applyOrElse$1(QueryExecution.scala:110)\r\n\tat org.apache.spark.sql.execution.SQLExecution$.$anonfun$withNewExecutionId$5(SQLExecution.scala:103)\r\n\tat org.apache.spark.sql.execution.SQLExecution$.withSQLConfPropagated(SQLExecution.scala:163)\r\n\tat org.apache.spark.sql.execution.SQLExecution$.$anonfun$withNewExecutionId$1(SQLExecution.scala:90)\r\n\tat org.apache.spark.sql.SparkSession.withActive(SparkSession.scala:775)\r\n\tat org.apache.spark.sql.execution.SQLExecution$.withNewExecutionId(SQLExecution.scala:64)\r\n\tat org.apache.spark.sql.execution.QueryExecution$$anonfun$eagerlyExecuteCommands$1.applyOrElse(QueryExecution.scala:110)\r\n\tat org.apache.spark.sql.execution.QueryExecution$$anonfun$eagerlyExecuteCommands$1.applyOrElse(QueryExecution.scala:106)\r\n\tat org.apache.spark.sql.catalyst.trees.TreeNode.$anonfun$transformDownWithPruning$1(TreeNode.scala:481)\r\n\tat org.apache.spark.sql.catalyst.trees.CurrentOrigin$.withOrigin(TreeNode.scala:82)\r\n\tat org.apache.spark.sql.catalyst.trees.TreeNode.transformDownWithPruning(TreeNode.scala:481)\r\n\tat org.apache.spark.sql.catalyst.plans.logical.LogicalPlan.org$apache$spark$sql$catalyst$plans$logical$AnalysisHelper$$super$transformDownWithPruning(LogicalPlan.scala:30)\r\n\tat org.apache.spark.sql.catalyst.plans.logical.AnalysisHelper.transformDownWithPruning(AnalysisHelper.scala:267)\r\n\tat org.apache.spark.sql.catalyst.plans.logical.AnalysisHelper.transformDownWithPruning$(AnalysisHelper.scala:263)\r\n\tat org.apache.spark.sql.catalyst.plans.logical.LogicalPlan.transformDownWithPruning(LogicalPlan.scala:30)\r\n\tat org.apache.spark.sql.catalyst.plans.logical.LogicalPlan.transformDownWithPruning(LogicalPlan.scala:30)\r\n\tat org.apache.spark.sql.catalyst.trees.TreeNode.transformDown(TreeNode.scala:457)\r\n\tat org.apache.spark.sql.execution.QueryExecution.eagerlyExecuteCommands(QueryExecution.scala:106)\r\n\tat org.apache.spark.sql.execution.QueryExecution.commandExecuted$lzycompute(QueryExecution.scala:93)\r\n\tat org.apache.spark.sql.execution.QueryExecution.commandExecuted(QueryExecution.scala:91)\r\n\tat org.apache.spark.sql.execution.QueryExecution.assertCommandExecuted(QueryExecution.scala:128)\r\n\tat org.apache.spark.sql.DataFrameWriter.runCommand(DataFrameWriter.scala:848)\r\n\tat org.apache.spark.sql.DataFrameWriter.saveToV1Source(DataFrameWriter.scala:382)\r\n\tat org.apache.spark.sql.DataFrameWriter.saveInternal(DataFrameWriter.scala:355)\r\n\tat org.apache.spark.sql.DataFrameWriter.save(DataFrameWriter.scala:239)\r\n\tat org.apache.spark.sql.DataFrameWriter.csv(DataFrameWriter.scala:839)\r\n\tat sun.reflect.NativeMethodAccessorImpl.invoke0(Native Method)\r\n\tat sun.reflect.NativeMethodAccessorImpl.invoke(NativeMethodAccessorImpl.java:62)\r\n\tat sun.reflect.DelegatingMethodAccessorImpl.invoke(DelegatingMethodAccessorImpl.java:43)\r\n\tat java.lang.reflect.Method.invoke(Method.java:498)\r\n\tat py4j.reflection.MethodInvoker.invoke(MethodInvoker.java:244)\r\n\tat py4j.reflection.ReflectionEngine.invoke(ReflectionEngine.java:357)\r\n\tat py4j.Gateway.invoke(Gateway.java:282)\r\n\tat py4j.commands.AbstractCommand.invokeMethod(AbstractCommand.java:132)\r\n\tat py4j.commands.CallCommand.execute(CallCommand.java:79)\r\n\tat py4j.ClientServerConnection.waitForCommands(ClientServerConnection.java:182)\r\n\tat py4j.ClientServerConnection.run(ClientServerConnection.java:106)\r\n\tat java.lang.Thread.run(Thread.java:748)\r\nCaused by: org.apache.spark.SparkException: Job aborted due to stage failure: Task 0 in stage 98.0 failed 1 times, most recent failure: Lost task 0.0 in stage 98.0 (TID 79) (DESKTOP-OQ1AEH9.mshome.net executor driver): java.io.IOException: Cannot run program \"C:\\winutils\\bin\\winutils.exe\": CreateProcess error=216, Esta versión de %1 no es compatible con la versión de Windows que está ejecutando. Compruebe la información de sistema del equipo y después póngase en contacto con el anunciante de software\r\n\tat java.lang.ProcessBuilder.start(ProcessBuilder.java:1048)\r\n\tat org.apache.hadoop.util.Shell.runCommand(Shell.java:523)\r\n\tat org.apache.hadoop.util.Shell.run(Shell.java:482)\r\n\tat org.apache.hadoop.util.Shell$ShellCommandExecutor.execute(Shell.java:776)\r\n\tat org.apache.hadoop.util.Shell.execCommand(Shell.java:869)\r\n\tat org.apache.hadoop.util.Shell.execCommand(Shell.java:852)\r\n\tat org.apache.hadoop.fs.RawLocalFileSystem.setPermission(RawLocalFileSystem.java:733)\r\n\tat org.apache.hadoop.fs.RawLocalFileSystem$LocalFSFileOutputStream.<init>(RawLocalFileSystem.java:225)\r\n\tat org.apache.hadoop.fs.RawLocalFileSystem$LocalFSFileOutputStream.<init>(RawLocalFileSystem.java:209)\r\n\tat org.apache.hadoop.fs.RawLocalFileSystem.createOutputStreamWithMode(RawLocalFileSystem.java:307)\r\n\tat org.apache.hadoop.fs.RawLocalFileSystem.create(RawLocalFileSystem.java:296)\r\n\tat org.apache.hadoop.fs.RawLocalFileSystem.create(RawLocalFileSystem.java:328)\r\n\tat org.apache.hadoop.fs.ChecksumFileSystem$ChecksumFSOutputSummer.<init>(ChecksumFileSystem.java:398)\r\n\tat org.apache.hadoop.fs.ChecksumFileSystem.create(ChecksumFileSystem.java:461)\r\n\tat org.apache.hadoop.fs.ChecksumFileSystem.create(ChecksumFileSystem.java:440)\r\n\tat org.apache.hadoop.fs.FileSystem.create(FileSystem.java:911)\r\n\tat org.apache.hadoop.fs.FileSystem.create(FileSystem.java:892)\r\n\tat org.apache.hadoop.fs.FileSystem.create(FileSystem.java:789)\r\n\tat org.apache.spark.sql.execution.datasources.CodecStreams$.createOutputStream(CodecStreams.scala:81)\r\n\tat org.apache.spark.sql.execution.datasources.CodecStreams$.createOutputStreamWriter(CodecStreams.scala:92)\r\n\tat org.apache.spark.sql.execution.datasources.csv.CsvOutputWriter.<init>(CsvOutputWriter.scala:38)\r\n\tat org.apache.spark.sql.execution.datasources.csv.CSVFileFormat$$anon$1.newInstance(CSVFileFormat.scala:85)\r\n\tat org.apache.spark.sql.execution.datasources.SingleDirectoryDataWriter.newOutputWriter(FileFormatDataWriter.scala:161)\r\n\tat org.apache.spark.sql.execution.datasources.SingleDirectoryDataWriter.<init>(FileFormatDataWriter.scala:146)\r\n\tat org.apache.spark.sql.execution.datasources.FileFormatWriter$.executeTask(FileFormatWriter.scala:290)\r\n\tat org.apache.spark.sql.execution.datasources.FileFormatWriter$.$anonfun$write$16(FileFormatWriter.scala:229)\r\n\tat org.apache.spark.scheduler.ResultTask.runTask(ResultTask.scala:90)\r\n\tat org.apache.spark.scheduler.Task.run(Task.scala:131)\r\n\tat org.apache.spark.executor.Executor$TaskRunner.$anonfun$run$3(Executor.scala:506)\r\n\tat org.apache.spark.util.Utils$.tryWithSafeFinally(Utils.scala:1462)\r\n\tat org.apache.spark.executor.Executor$TaskRunner.run(Executor.scala:509)\r\n\tat java.util.concurrent.ThreadPoolExecutor.runWorker(ThreadPoolExecutor.java:1149)\r\n\tat java.util.concurrent.ThreadPoolExecutor$Worker.run(ThreadPoolExecutor.java:624)\r\n\tat java.lang.Thread.run(Thread.java:748)\r\nCaused by: java.io.IOException: CreateProcess error=216, Esta versión de %1 no es compatible con la versión de Windows que está ejecutando. Compruebe la información de sistema del equipo y después póngase en contacto con el anunciante de software\r\n\tat java.lang.ProcessImpl.create(Native Method)\r\n\tat java.lang.ProcessImpl.<init>(ProcessImpl.java:386)\r\n\tat java.lang.ProcessImpl.start(ProcessImpl.java:137)\r\n\tat java.lang.ProcessBuilder.start(ProcessBuilder.java:1029)\r\n\t... 33 more\r\n\nDriver stacktrace:\r\n\tat org.apache.spark.scheduler.DAGScheduler.failJobAndIndependentStages(DAGScheduler.scala:2454)\r\n\tat org.apache.spark.scheduler.DAGScheduler.$anonfun$abortStage$2(DAGScheduler.scala:2403)\r\n\tat org.apache.spark.scheduler.DAGScheduler.$anonfun$abortStage$2$adapted(DAGScheduler.scala:2402)\r\n\tat scala.collection.mutable.ResizableArray.foreach(ResizableArray.scala:62)\r\n\tat scala.collection.mutable.ResizableArray.foreach$(ResizableArray.scala:55)\r\n\tat scala.collection.mutable.ArrayBuffer.foreach(ArrayBuffer.scala:49)\r\n\tat org.apache.spark.scheduler.DAGScheduler.abortStage(DAGScheduler.scala:2402)\r\n\tat org.apache.spark.scheduler.DAGScheduler.$anonfun$handleTaskSetFailed$1(DAGScheduler.scala:1160)\r\n\tat org.apache.spark.scheduler.DAGScheduler.$anonfun$handleTaskSetFailed$1$adapted(DAGScheduler.scala:1160)\r\n\tat scala.Option.foreach(Option.scala:407)\r\n\tat org.apache.spark.scheduler.DAGScheduler.handleTaskSetFailed(DAGScheduler.scala:1160)\r\n\tat org.apache.spark.scheduler.DAGSchedulerEventProcessLoop.doOnReceive(DAGScheduler.scala:2642)\r\n\tat org.apache.spark.scheduler.DAGSchedulerEventProcessLoop.onReceive(DAGScheduler.scala:2584)\r\n\tat org.apache.spark.scheduler.DAGSchedulerEventProcessLoop.onReceive(DAGScheduler.scala:2573)\r\n\tat org.apache.spark.util.EventLoop$$anon$1.run(EventLoop.scala:49)\r\n\tat org.apache.spark.scheduler.DAGScheduler.runJob(DAGScheduler.scala:938)\r\n\tat org.apache.spark.SparkContext.runJob(SparkContext.scala:2214)\r\n\tat org.apache.spark.sql.execution.datasources.FileFormatWriter$.write(FileFormatWriter.scala:218)\r\n\t... 42 more\r\nCaused by: java.io.IOException: Cannot run program \"C:\\winutils\\bin\\winutils.exe\": CreateProcess error=216, Esta versión de %1 no es compatible con la versión de Windows que está ejecutando. Compruebe la información de sistema del equipo y después póngase en contacto con el anunciante de software\r\n\tat java.lang.ProcessBuilder.start(ProcessBuilder.java:1048)\r\n\tat org.apache.hadoop.util.Shell.runCommand(Shell.java:523)\r\n\tat org.apache.hadoop.util.Shell.run(Shell.java:482)\r\n\tat org.apache.hadoop.util.Shell$ShellCommandExecutor.execute(Shell.java:776)\r\n\tat org.apache.hadoop.util.Shell.execCommand(Shell.java:869)\r\n\tat org.apache.hadoop.util.Shell.execCommand(Shell.java:852)\r\n\tat org.apache.hadoop.fs.RawLocalFileSystem.setPermission(RawLocalFileSystem.java:733)\r\n\tat org.apache.hadoop.fs.RawLocalFileSystem$LocalFSFileOutputStream.<init>(RawLocalFileSystem.java:225)\r\n\tat org.apache.hadoop.fs.RawLocalFileSystem$LocalFSFileOutputStream.<init>(RawLocalFileSystem.java:209)\r\n\tat org.apache.hadoop.fs.RawLocalFileSystem.createOutputStreamWithMode(RawLocalFileSystem.java:307)\r\n\tat org.apache.hadoop.fs.RawLocalFileSystem.create(RawLocalFileSystem.java:296)\r\n\tat org.apache.hadoop.fs.RawLocalFileSystem.create(RawLocalFileSystem.java:328)\r\n\tat org.apache.hadoop.fs.ChecksumFileSystem$ChecksumFSOutputSummer.<init>(ChecksumFileSystem.java:398)\r\n\tat org.apache.hadoop.fs.ChecksumFileSystem.create(ChecksumFileSystem.java:461)\r\n\tat org.apache.hadoop.fs.ChecksumFileSystem.create(ChecksumFileSystem.java:440)\r\n\tat org.apache.hadoop.fs.FileSystem.create(FileSystem.java:911)\r\n\tat org.apache.hadoop.fs.FileSystem.create(FileSystem.java:892)\r\n\tat org.apache.hadoop.fs.FileSystem.create(FileSystem.java:789)\r\n\tat org.apache.spark.sql.execution.datasources.CodecStreams$.createOutputStream(CodecStreams.scala:81)\r\n\tat org.apache.spark.sql.execution.datasources.CodecStreams$.createOutputStreamWriter(CodecStreams.scala:92)\r\n\tat org.apache.spark.sql.execution.datasources.csv.CsvOutputWriter.<init>(CsvOutputWriter.scala:38)\r\n\tat org.apache.spark.sql.execution.datasources.csv.CSVFileFormat$$anon$1.newInstance(CSVFileFormat.scala:85)\r\n\tat org.apache.spark.sql.execution.datasources.SingleDirectoryDataWriter.newOutputWriter(FileFormatDataWriter.scala:161)\r\n\tat org.apache.spark.sql.execution.datasources.SingleDirectoryDataWriter.<init>(FileFormatDataWriter.scala:146)\r\n\tat org.apache.spark.sql.execution.datasources.FileFormatWriter$.executeTask(FileFormatWriter.scala:290)\r\n\tat org.apache.spark.sql.execution.datasources.FileFormatWriter$.$anonfun$write$16(FileFormatWriter.scala:229)\r\n\tat org.apache.spark.scheduler.ResultTask.runTask(ResultTask.scala:90)\r\n\tat org.apache.spark.scheduler.Task.run(Task.scala:131)\r\n\tat org.apache.spark.executor.Executor$TaskRunner.$anonfun$run$3(Executor.scala:506)\r\n\tat org.apache.spark.util.Utils$.tryWithSafeFinally(Utils.scala:1462)\r\n\tat org.apache.spark.executor.Executor$TaskRunner.run(Executor.scala:509)\r\n\tat java.util.concurrent.ThreadPoolExecutor.runWorker(ThreadPoolExecutor.java:1149)\r\n\tat java.util.concurrent.ThreadPoolExecutor$Worker.run(ThreadPoolExecutor.java:624)\r\n\t... 1 more\r\nCaused by: java.io.IOException: CreateProcess error=216, Esta versión de %1 no es compatible con la versión de Windows que está ejecutando. Compruebe la información de sistema del equipo y después póngase en contacto con el anunciante de software\r\n\tat java.lang.ProcessImpl.create(Native Method)\r\n\tat java.lang.ProcessImpl.<init>(ProcessImpl.java:386)\r\n\tat java.lang.ProcessImpl.start(ProcessImpl.java:137)\r\n\tat java.lang.ProcessBuilder.start(ProcessBuilder.java:1029)\r\n\t... 33 more\r\n",
     "output_type": "error",
     "traceback": [
      "\u001b[1;31m---------------------------------------------------------------------------\u001b[0m",
      "\u001b[1;31mPy4JJavaError\u001b[0m                             Traceback (most recent call last)",
      "\u001b[1;32m~\\AppData\\Local\\Temp/ipykernel_10380/1529404091.py\u001b[0m in \u001b[0;36m<module>\u001b[1;34m\u001b[0m\n\u001b[1;32m----> 1\u001b[1;33m \u001b[0mresponse\u001b[0m\u001b[1;33m.\u001b[0m\u001b[0mwrite\u001b[0m\u001b[1;33m.\u001b[0m\u001b[0moptions\u001b[0m\u001b[1;33m(\u001b[0m\u001b[0mheader\u001b[0m\u001b[1;33m=\u001b[0m\u001b[1;34m'True'\u001b[0m\u001b[1;33m,\u001b[0m \u001b[0mdelimiter\u001b[0m\u001b[1;33m=\u001b[0m\u001b[1;34m','\u001b[0m\u001b[1;33m)\u001b[0m\u001b[0;31m\\\u001b[0m\u001b[1;33m\u001b[0m\u001b[1;33m\u001b[0m\u001b[0m\n\u001b[0m\u001b[0;32m      2\u001b[0m     \u001b[1;33m.\u001b[0m\u001b[0mcsv\u001b[0m\u001b[1;33m(\u001b[0m\u001b[1;34mr'./assets/files/response/'\u001b[0m\u001b[1;33m,\u001b[0m \u001b[0mcompression\u001b[0m\u001b[1;33m=\u001b[0m\u001b[1;34m'gzip'\u001b[0m\u001b[1;33m,\u001b[0m \u001b[0msep\u001b[0m\u001b[1;33m=\u001b[0m\u001b[1;34m','\u001b[0m\u001b[1;33m,\u001b[0m \u001b[0mheader\u001b[0m\u001b[1;33m=\u001b[0m\u001b[1;32mTrue\u001b[0m\u001b[1;33m,\u001b[0m \u001b[0mmode\u001b[0m\u001b[1;33m=\u001b[0m\u001b[1;34m'overwrite'\u001b[0m \u001b[1;33m)\u001b[0m\u001b[1;33m\u001b[0m\u001b[1;33m\u001b[0m\u001b[0m\n",
      "\u001b[1;32mc:\\Users\\LENOVO\\anaconda3\\lib\\site-packages\\pyspark\\sql\\readwriter.py\u001b[0m in \u001b[0;36mcsv\u001b[1;34m(self, path, mode, compression, sep, quote, escape, header, nullValue, escapeQuotes, quoteAll, dateFormat, timestampFormat, ignoreLeadingWhiteSpace, ignoreTrailingWhiteSpace, charToEscapeQuoteEscaping, encoding, emptyValue, lineSep)\u001b[0m\n\u001b[0;32m    953\u001b[0m                        \u001b[0mcharToEscapeQuoteEscaping\u001b[0m\u001b[1;33m=\u001b[0m\u001b[0mcharToEscapeQuoteEscaping\u001b[0m\u001b[1;33m,\u001b[0m\u001b[1;33m\u001b[0m\u001b[1;33m\u001b[0m\u001b[0m\n\u001b[0;32m    954\u001b[0m                        encoding=encoding, emptyValue=emptyValue, lineSep=lineSep)\n\u001b[1;32m--> 955\u001b[1;33m         \u001b[0mself\u001b[0m\u001b[1;33m.\u001b[0m\u001b[0m_jwrite\u001b[0m\u001b[1;33m.\u001b[0m\u001b[0mcsv\u001b[0m\u001b[1;33m(\u001b[0m\u001b[0mpath\u001b[0m\u001b[1;33m)\u001b[0m\u001b[1;33m\u001b[0m\u001b[1;33m\u001b[0m\u001b[0m\n\u001b[0m\u001b[0;32m    956\u001b[0m \u001b[1;33m\u001b[0m\u001b[0m\n\u001b[0;32m    957\u001b[0m     \u001b[1;32mdef\u001b[0m \u001b[0morc\u001b[0m\u001b[1;33m(\u001b[0m\u001b[0mself\u001b[0m\u001b[1;33m,\u001b[0m \u001b[0mpath\u001b[0m\u001b[1;33m,\u001b[0m \u001b[0mmode\u001b[0m\u001b[1;33m=\u001b[0m\u001b[1;32mNone\u001b[0m\u001b[1;33m,\u001b[0m \u001b[0mpartitionBy\u001b[0m\u001b[1;33m=\u001b[0m\u001b[1;32mNone\u001b[0m\u001b[1;33m,\u001b[0m \u001b[0mcompression\u001b[0m\u001b[1;33m=\u001b[0m\u001b[1;32mNone\u001b[0m\u001b[1;33m)\u001b[0m\u001b[1;33m:\u001b[0m\u001b[1;33m\u001b[0m\u001b[1;33m\u001b[0m\u001b[0m\n",
      "\u001b[1;32mc:\\Users\\LENOVO\\anaconda3\\lib\\site-packages\\py4j\\java_gateway.py\u001b[0m in \u001b[0;36m__call__\u001b[1;34m(self, *args)\u001b[0m\n\u001b[0;32m   1319\u001b[0m \u001b[1;33m\u001b[0m\u001b[0m\n\u001b[0;32m   1320\u001b[0m         \u001b[0manswer\u001b[0m \u001b[1;33m=\u001b[0m \u001b[0mself\u001b[0m\u001b[1;33m.\u001b[0m\u001b[0mgateway_client\u001b[0m\u001b[1;33m.\u001b[0m\u001b[0msend_command\u001b[0m\u001b[1;33m(\u001b[0m\u001b[0mcommand\u001b[0m\u001b[1;33m)\u001b[0m\u001b[1;33m\u001b[0m\u001b[1;33m\u001b[0m\u001b[0m\n\u001b[1;32m-> 1321\u001b[1;33m         return_value = get_return_value(\n\u001b[0m\u001b[0;32m   1322\u001b[0m             answer, self.gateway_client, self.target_id, self.name)\n\u001b[0;32m   1323\u001b[0m \u001b[1;33m\u001b[0m\u001b[0m\n",
      "\u001b[1;32mc:\\Users\\LENOVO\\anaconda3\\lib\\site-packages\\pyspark\\sql\\utils.py\u001b[0m in \u001b[0;36mdeco\u001b[1;34m(*a, **kw)\u001b[0m\n\u001b[0;32m    109\u001b[0m     \u001b[1;32mdef\u001b[0m \u001b[0mdeco\u001b[0m\u001b[1;33m(\u001b[0m\u001b[1;33m*\u001b[0m\u001b[0ma\u001b[0m\u001b[1;33m,\u001b[0m \u001b[1;33m**\u001b[0m\u001b[0mkw\u001b[0m\u001b[1;33m)\u001b[0m\u001b[1;33m:\u001b[0m\u001b[1;33m\u001b[0m\u001b[1;33m\u001b[0m\u001b[0m\n\u001b[0;32m    110\u001b[0m         \u001b[1;32mtry\u001b[0m\u001b[1;33m:\u001b[0m\u001b[1;33m\u001b[0m\u001b[1;33m\u001b[0m\u001b[0m\n\u001b[1;32m--> 111\u001b[1;33m             \u001b[1;32mreturn\u001b[0m \u001b[0mf\u001b[0m\u001b[1;33m(\u001b[0m\u001b[1;33m*\u001b[0m\u001b[0ma\u001b[0m\u001b[1;33m,\u001b[0m \u001b[1;33m**\u001b[0m\u001b[0mkw\u001b[0m\u001b[1;33m)\u001b[0m\u001b[1;33m\u001b[0m\u001b[1;33m\u001b[0m\u001b[0m\n\u001b[0m\u001b[0;32m    112\u001b[0m         \u001b[1;32mexcept\u001b[0m \u001b[0mpy4j\u001b[0m\u001b[1;33m.\u001b[0m\u001b[0mprotocol\u001b[0m\u001b[1;33m.\u001b[0m\u001b[0mPy4JJavaError\u001b[0m \u001b[1;32mas\u001b[0m \u001b[0me\u001b[0m\u001b[1;33m:\u001b[0m\u001b[1;33m\u001b[0m\u001b[1;33m\u001b[0m\u001b[0m\n\u001b[0;32m    113\u001b[0m             \u001b[0mconverted\u001b[0m \u001b[1;33m=\u001b[0m \u001b[0mconvert_exception\u001b[0m\u001b[1;33m(\u001b[0m\u001b[0me\u001b[0m\u001b[1;33m.\u001b[0m\u001b[0mjava_exception\u001b[0m\u001b[1;33m)\u001b[0m\u001b[1;33m\u001b[0m\u001b[1;33m\u001b[0m\u001b[0m\n",
      "\u001b[1;32mc:\\Users\\LENOVO\\anaconda3\\lib\\site-packages\\py4j\\protocol.py\u001b[0m in \u001b[0;36mget_return_value\u001b[1;34m(answer, gateway_client, target_id, name)\u001b[0m\n\u001b[0;32m    324\u001b[0m             \u001b[0mvalue\u001b[0m \u001b[1;33m=\u001b[0m \u001b[0mOUTPUT_CONVERTER\u001b[0m\u001b[1;33m[\u001b[0m\u001b[0mtype\u001b[0m\u001b[1;33m]\u001b[0m\u001b[1;33m(\u001b[0m\u001b[0manswer\u001b[0m\u001b[1;33m[\u001b[0m\u001b[1;36m2\u001b[0m\u001b[1;33m:\u001b[0m\u001b[1;33m]\u001b[0m\u001b[1;33m,\u001b[0m \u001b[0mgateway_client\u001b[0m\u001b[1;33m)\u001b[0m\u001b[1;33m\u001b[0m\u001b[1;33m\u001b[0m\u001b[0m\n\u001b[0;32m    325\u001b[0m             \u001b[1;32mif\u001b[0m \u001b[0manswer\u001b[0m\u001b[1;33m[\u001b[0m\u001b[1;36m1\u001b[0m\u001b[1;33m]\u001b[0m \u001b[1;33m==\u001b[0m \u001b[0mREFERENCE_TYPE\u001b[0m\u001b[1;33m:\u001b[0m\u001b[1;33m\u001b[0m\u001b[1;33m\u001b[0m\u001b[0m\n\u001b[1;32m--> 326\u001b[1;33m                 raise Py4JJavaError(\n\u001b[0m\u001b[0;32m    327\u001b[0m                     \u001b[1;34m\"An error occurred while calling {0}{1}{2}.\\n\"\u001b[0m\u001b[1;33m.\u001b[0m\u001b[1;33m\u001b[0m\u001b[1;33m\u001b[0m\u001b[0m\n\u001b[0;32m    328\u001b[0m                     format(target_id, \".\", name), value)\n",
      "\u001b[1;31mPy4JJavaError\u001b[0m: An error occurred while calling o475.csv.\n: org.apache.spark.SparkException: Job aborted.\r\n\tat org.apache.spark.sql.errors.QueryExecutionErrors$.jobAbortedError(QueryExecutionErrors.scala:496)\r\n\tat org.apache.spark.sql.execution.datasources.FileFormatWriter$.write(FileFormatWriter.scala:251)\r\n\tat org.apache.spark.sql.execution.datasources.InsertIntoHadoopFsRelationCommand.run(InsertIntoHadoopFsRelationCommand.scala:186)\r\n\tat org.apache.spark.sql.execution.command.DataWritingCommandExec.sideEffectResult$lzycompute(commands.scala:113)\r\n\tat org.apache.spark.sql.execution.command.DataWritingCommandExec.sideEffectResult(commands.scala:111)\r\n\tat org.apache.spark.sql.execution.command.DataWritingCommandExec.executeCollect(commands.scala:125)\r\n\tat org.apache.spark.sql.execution.QueryExecution$$anonfun$eagerlyExecuteCommands$1.$anonfun$applyOrElse$1(QueryExecution.scala:110)\r\n\tat org.apache.spark.sql.execution.SQLExecution$.$anonfun$withNewExecutionId$5(SQLExecution.scala:103)\r\n\tat org.apache.spark.sql.execution.SQLExecution$.withSQLConfPropagated(SQLExecution.scala:163)\r\n\tat org.apache.spark.sql.execution.SQLExecution$.$anonfun$withNewExecutionId$1(SQLExecution.scala:90)\r\n\tat org.apache.spark.sql.SparkSession.withActive(SparkSession.scala:775)\r\n\tat org.apache.spark.sql.execution.SQLExecution$.withNewExecutionId(SQLExecution.scala:64)\r\n\tat org.apache.spark.sql.execution.QueryExecution$$anonfun$eagerlyExecuteCommands$1.applyOrElse(QueryExecution.scala:110)\r\n\tat org.apache.spark.sql.execution.QueryExecution$$anonfun$eagerlyExecuteCommands$1.applyOrElse(QueryExecution.scala:106)\r\n\tat org.apache.spark.sql.catalyst.trees.TreeNode.$anonfun$transformDownWithPruning$1(TreeNode.scala:481)\r\n\tat org.apache.spark.sql.catalyst.trees.CurrentOrigin$.withOrigin(TreeNode.scala:82)\r\n\tat org.apache.spark.sql.catalyst.trees.TreeNode.transformDownWithPruning(TreeNode.scala:481)\r\n\tat org.apache.spark.sql.catalyst.plans.logical.LogicalPlan.org$apache$spark$sql$catalyst$plans$logical$AnalysisHelper$$super$transformDownWithPruning(LogicalPlan.scala:30)\r\n\tat org.apache.spark.sql.catalyst.plans.logical.AnalysisHelper.transformDownWithPruning(AnalysisHelper.scala:267)\r\n\tat org.apache.spark.sql.catalyst.plans.logical.AnalysisHelper.transformDownWithPruning$(AnalysisHelper.scala:263)\r\n\tat org.apache.spark.sql.catalyst.plans.logical.LogicalPlan.transformDownWithPruning(LogicalPlan.scala:30)\r\n\tat org.apache.spark.sql.catalyst.plans.logical.LogicalPlan.transformDownWithPruning(LogicalPlan.scala:30)\r\n\tat org.apache.spark.sql.catalyst.trees.TreeNode.transformDown(TreeNode.scala:457)\r\n\tat org.apache.spark.sql.execution.QueryExecution.eagerlyExecuteCommands(QueryExecution.scala:106)\r\n\tat org.apache.spark.sql.execution.QueryExecution.commandExecuted$lzycompute(QueryExecution.scala:93)\r\n\tat org.apache.spark.sql.execution.QueryExecution.commandExecuted(QueryExecution.scala:91)\r\n\tat org.apache.spark.sql.execution.QueryExecution.assertCommandExecuted(QueryExecution.scala:128)\r\n\tat org.apache.spark.sql.DataFrameWriter.runCommand(DataFrameWriter.scala:848)\r\n\tat org.apache.spark.sql.DataFrameWriter.saveToV1Source(DataFrameWriter.scala:382)\r\n\tat org.apache.spark.sql.DataFrameWriter.saveInternal(DataFrameWriter.scala:355)\r\n\tat org.apache.spark.sql.DataFrameWriter.save(DataFrameWriter.scala:239)\r\n\tat org.apache.spark.sql.DataFrameWriter.csv(DataFrameWriter.scala:839)\r\n\tat sun.reflect.NativeMethodAccessorImpl.invoke0(Native Method)\r\n\tat sun.reflect.NativeMethodAccessorImpl.invoke(NativeMethodAccessorImpl.java:62)\r\n\tat sun.reflect.DelegatingMethodAccessorImpl.invoke(DelegatingMethodAccessorImpl.java:43)\r\n\tat java.lang.reflect.Method.invoke(Method.java:498)\r\n\tat py4j.reflection.MethodInvoker.invoke(MethodInvoker.java:244)\r\n\tat py4j.reflection.ReflectionEngine.invoke(ReflectionEngine.java:357)\r\n\tat py4j.Gateway.invoke(Gateway.java:282)\r\n\tat py4j.commands.AbstractCommand.invokeMethod(AbstractCommand.java:132)\r\n\tat py4j.commands.CallCommand.execute(CallCommand.java:79)\r\n\tat py4j.ClientServerConnection.waitForCommands(ClientServerConnection.java:182)\r\n\tat py4j.ClientServerConnection.run(ClientServerConnection.java:106)\r\n\tat java.lang.Thread.run(Thread.java:748)\r\nCaused by: org.apache.spark.SparkException: Job aborted due to stage failure: Task 0 in stage 98.0 failed 1 times, most recent failure: Lost task 0.0 in stage 98.0 (TID 79) (DESKTOP-OQ1AEH9.mshome.net executor driver): java.io.IOException: Cannot run program \"C:\\winutils\\bin\\winutils.exe\": CreateProcess error=216, Esta versión de %1 no es compatible con la versión de Windows que está ejecutando. Compruebe la información de sistema del equipo y después póngase en contacto con el anunciante de software\r\n\tat java.lang.ProcessBuilder.start(ProcessBuilder.java:1048)\r\n\tat org.apache.hadoop.util.Shell.runCommand(Shell.java:523)\r\n\tat org.apache.hadoop.util.Shell.run(Shell.java:482)\r\n\tat org.apache.hadoop.util.Shell$ShellCommandExecutor.execute(Shell.java:776)\r\n\tat org.apache.hadoop.util.Shell.execCommand(Shell.java:869)\r\n\tat org.apache.hadoop.util.Shell.execCommand(Shell.java:852)\r\n\tat org.apache.hadoop.fs.RawLocalFileSystem.setPermission(RawLocalFileSystem.java:733)\r\n\tat org.apache.hadoop.fs.RawLocalFileSystem$LocalFSFileOutputStream.<init>(RawLocalFileSystem.java:225)\r\n\tat org.apache.hadoop.fs.RawLocalFileSystem$LocalFSFileOutputStream.<init>(RawLocalFileSystem.java:209)\r\n\tat org.apache.hadoop.fs.RawLocalFileSystem.createOutputStreamWithMode(RawLocalFileSystem.java:307)\r\n\tat org.apache.hadoop.fs.RawLocalFileSystem.create(RawLocalFileSystem.java:296)\r\n\tat org.apache.hadoop.fs.RawLocalFileSystem.create(RawLocalFileSystem.java:328)\r\n\tat org.apache.hadoop.fs.ChecksumFileSystem$ChecksumFSOutputSummer.<init>(ChecksumFileSystem.java:398)\r\n\tat org.apache.hadoop.fs.ChecksumFileSystem.create(ChecksumFileSystem.java:461)\r\n\tat org.apache.hadoop.fs.ChecksumFileSystem.create(ChecksumFileSystem.java:440)\r\n\tat org.apache.hadoop.fs.FileSystem.create(FileSystem.java:911)\r\n\tat org.apache.hadoop.fs.FileSystem.create(FileSystem.java:892)\r\n\tat org.apache.hadoop.fs.FileSystem.create(FileSystem.java:789)\r\n\tat org.apache.spark.sql.execution.datasources.CodecStreams$.createOutputStream(CodecStreams.scala:81)\r\n\tat org.apache.spark.sql.execution.datasources.CodecStreams$.createOutputStreamWriter(CodecStreams.scala:92)\r\n\tat org.apache.spark.sql.execution.datasources.csv.CsvOutputWriter.<init>(CsvOutputWriter.scala:38)\r\n\tat org.apache.spark.sql.execution.datasources.csv.CSVFileFormat$$anon$1.newInstance(CSVFileFormat.scala:85)\r\n\tat org.apache.spark.sql.execution.datasources.SingleDirectoryDataWriter.newOutputWriter(FileFormatDataWriter.scala:161)\r\n\tat org.apache.spark.sql.execution.datasources.SingleDirectoryDataWriter.<init>(FileFormatDataWriter.scala:146)\r\n\tat org.apache.spark.sql.execution.datasources.FileFormatWriter$.executeTask(FileFormatWriter.scala:290)\r\n\tat org.apache.spark.sql.execution.datasources.FileFormatWriter$.$anonfun$write$16(FileFormatWriter.scala:229)\r\n\tat org.apache.spark.scheduler.ResultTask.runTask(ResultTask.scala:90)\r\n\tat org.apache.spark.scheduler.Task.run(Task.scala:131)\r\n\tat org.apache.spark.executor.Executor$TaskRunner.$anonfun$run$3(Executor.scala:506)\r\n\tat org.apache.spark.util.Utils$.tryWithSafeFinally(Utils.scala:1462)\r\n\tat org.apache.spark.executor.Executor$TaskRunner.run(Executor.scala:509)\r\n\tat java.util.concurrent.ThreadPoolExecutor.runWorker(ThreadPoolExecutor.java:1149)\r\n\tat java.util.concurrent.ThreadPoolExecutor$Worker.run(ThreadPoolExecutor.java:624)\r\n\tat java.lang.Thread.run(Thread.java:748)\r\nCaused by: java.io.IOException: CreateProcess error=216, Esta versión de %1 no es compatible con la versión de Windows que está ejecutando. Compruebe la información de sistema del equipo y después póngase en contacto con el anunciante de software\r\n\tat java.lang.ProcessImpl.create(Native Method)\r\n\tat java.lang.ProcessImpl.<init>(ProcessImpl.java:386)\r\n\tat java.lang.ProcessImpl.start(ProcessImpl.java:137)\r\n\tat java.lang.ProcessBuilder.start(ProcessBuilder.java:1029)\r\n\t... 33 more\r\n\nDriver stacktrace:\r\n\tat org.apache.spark.scheduler.DAGScheduler.failJobAndIndependentStages(DAGScheduler.scala:2454)\r\n\tat org.apache.spark.scheduler.DAGScheduler.$anonfun$abortStage$2(DAGScheduler.scala:2403)\r\n\tat org.apache.spark.scheduler.DAGScheduler.$anonfun$abortStage$2$adapted(DAGScheduler.scala:2402)\r\n\tat scala.collection.mutable.ResizableArray.foreach(ResizableArray.scala:62)\r\n\tat scala.collection.mutable.ResizableArray.foreach$(ResizableArray.scala:55)\r\n\tat scala.collection.mutable.ArrayBuffer.foreach(ArrayBuffer.scala:49)\r\n\tat org.apache.spark.scheduler.DAGScheduler.abortStage(DAGScheduler.scala:2402)\r\n\tat org.apache.spark.scheduler.DAGScheduler.$anonfun$handleTaskSetFailed$1(DAGScheduler.scala:1160)\r\n\tat org.apache.spark.scheduler.DAGScheduler.$anonfun$handleTaskSetFailed$1$adapted(DAGScheduler.scala:1160)\r\n\tat scala.Option.foreach(Option.scala:407)\r\n\tat org.apache.spark.scheduler.DAGScheduler.handleTaskSetFailed(DAGScheduler.scala:1160)\r\n\tat org.apache.spark.scheduler.DAGSchedulerEventProcessLoop.doOnReceive(DAGScheduler.scala:2642)\r\n\tat org.apache.spark.scheduler.DAGSchedulerEventProcessLoop.onReceive(DAGScheduler.scala:2584)\r\n\tat org.apache.spark.scheduler.DAGSchedulerEventProcessLoop.onReceive(DAGScheduler.scala:2573)\r\n\tat org.apache.spark.util.EventLoop$$anon$1.run(EventLoop.scala:49)\r\n\tat org.apache.spark.scheduler.DAGScheduler.runJob(DAGScheduler.scala:938)\r\n\tat org.apache.spark.SparkContext.runJob(SparkContext.scala:2214)\r\n\tat org.apache.spark.sql.execution.datasources.FileFormatWriter$.write(FileFormatWriter.scala:218)\r\n\t... 42 more\r\nCaused by: java.io.IOException: Cannot run program \"C:\\winutils\\bin\\winutils.exe\": CreateProcess error=216, Esta versión de %1 no es compatible con la versión de Windows que está ejecutando. Compruebe la información de sistema del equipo y después póngase en contacto con el anunciante de software\r\n\tat java.lang.ProcessBuilder.start(ProcessBuilder.java:1048)\r\n\tat org.apache.hadoop.util.Shell.runCommand(Shell.java:523)\r\n\tat org.apache.hadoop.util.Shell.run(Shell.java:482)\r\n\tat org.apache.hadoop.util.Shell$ShellCommandExecutor.execute(Shell.java:776)\r\n\tat org.apache.hadoop.util.Shell.execCommand(Shell.java:869)\r\n\tat org.apache.hadoop.util.Shell.execCommand(Shell.java:852)\r\n\tat org.apache.hadoop.fs.RawLocalFileSystem.setPermission(RawLocalFileSystem.java:733)\r\n\tat org.apache.hadoop.fs.RawLocalFileSystem$LocalFSFileOutputStream.<init>(RawLocalFileSystem.java:225)\r\n\tat org.apache.hadoop.fs.RawLocalFileSystem$LocalFSFileOutputStream.<init>(RawLocalFileSystem.java:209)\r\n\tat org.apache.hadoop.fs.RawLocalFileSystem.createOutputStreamWithMode(RawLocalFileSystem.java:307)\r\n\tat org.apache.hadoop.fs.RawLocalFileSystem.create(RawLocalFileSystem.java:296)\r\n\tat org.apache.hadoop.fs.RawLocalFileSystem.create(RawLocalFileSystem.java:328)\r\n\tat org.apache.hadoop.fs.ChecksumFileSystem$ChecksumFSOutputSummer.<init>(ChecksumFileSystem.java:398)\r\n\tat org.apache.hadoop.fs.ChecksumFileSystem.create(ChecksumFileSystem.java:461)\r\n\tat org.apache.hadoop.fs.ChecksumFileSystem.create(ChecksumFileSystem.java:440)\r\n\tat org.apache.hadoop.fs.FileSystem.create(FileSystem.java:911)\r\n\tat org.apache.hadoop.fs.FileSystem.create(FileSystem.java:892)\r\n\tat org.apache.hadoop.fs.FileSystem.create(FileSystem.java:789)\r\n\tat org.apache.spark.sql.execution.datasources.CodecStreams$.createOutputStream(CodecStreams.scala:81)\r\n\tat org.apache.spark.sql.execution.datasources.CodecStreams$.createOutputStreamWriter(CodecStreams.scala:92)\r\n\tat org.apache.spark.sql.execution.datasources.csv.CsvOutputWriter.<init>(CsvOutputWriter.scala:38)\r\n\tat org.apache.spark.sql.execution.datasources.csv.CSVFileFormat$$anon$1.newInstance(CSVFileFormat.scala:85)\r\n\tat org.apache.spark.sql.execution.datasources.SingleDirectoryDataWriter.newOutputWriter(FileFormatDataWriter.scala:161)\r\n\tat org.apache.spark.sql.execution.datasources.SingleDirectoryDataWriter.<init>(FileFormatDataWriter.scala:146)\r\n\tat org.apache.spark.sql.execution.datasources.FileFormatWriter$.executeTask(FileFormatWriter.scala:290)\r\n\tat org.apache.spark.sql.execution.datasources.FileFormatWriter$.$anonfun$write$16(FileFormatWriter.scala:229)\r\n\tat org.apache.spark.scheduler.ResultTask.runTask(ResultTask.scala:90)\r\n\tat org.apache.spark.scheduler.Task.run(Task.scala:131)\r\n\tat org.apache.spark.executor.Executor$TaskRunner.$anonfun$run$3(Executor.scala:506)\r\n\tat org.apache.spark.util.Utils$.tryWithSafeFinally(Utils.scala:1462)\r\n\tat org.apache.spark.executor.Executor$TaskRunner.run(Executor.scala:509)\r\n\tat java.util.concurrent.ThreadPoolExecutor.runWorker(ThreadPoolExecutor.java:1149)\r\n\tat java.util.concurrent.ThreadPoolExecutor$Worker.run(ThreadPoolExecutor.java:624)\r\n\t... 1 more\r\nCaused by: java.io.IOException: CreateProcess error=216, Esta versión de %1 no es compatible con la versión de Windows que está ejecutando. Compruebe la información de sistema del equipo y después póngase en contacto con el anunciante de software\r\n\tat java.lang.ProcessImpl.create(Native Method)\r\n\tat java.lang.ProcessImpl.<init>(ProcessImpl.java:386)\r\n\tat java.lang.ProcessImpl.start(ProcessImpl.java:137)\r\n\tat java.lang.ProcessBuilder.start(ProcessBuilder.java:1029)\r\n\t... 33 more\r\n"
     ]
    }
   ],
   "source": [
    "response.write.options(header='True', delimiter=',')\\\n",
    "    .csv(r'./assets/files/response/', compression='gzip', sep=',', header=True, mode='overwrite' )"
   ]
  },
  {
   "attachments": {},
   "cell_type": "markdown",
   "metadata": {},
   "source": [
    "### Statistics in PySpark\n",
    "\n",
    "* Correlation\n",
    "* Hypothesis testing\n",
    "  * ChiSquareTest\n",
    "* Summarizer\n",
    "* ...\n",
    "\n",
    "More information in  [ml-statictics](https://spark.apache.org/docs/latest/ml-statistics.html)"
   ]
  },
  {
   "cell_type": "code",
   "execution_count": 98,
   "metadata": {},
   "outputs": [],
   "source": [
    "from pyspark.ml.feature import VectorAssembler\n",
    "from pyspark.ml.linalg import Vectors\n",
    "from pyspark.ml.stat import Correlation"
   ]
  },
  {
   "attachments": {},
   "cell_type": "markdown",
   "metadata": {},
   "source": [
    "Vector Assembler join two columns in one, but this is a array of them "
   ]
  },
  {
   "cell_type": "code",
   "execution_count": 99,
   "metadata": {},
   "outputs": [],
   "source": [
    "featureassembler = VectorAssembler(\n",
    "    inputCols = ['current_prices', 'old_prices'], \n",
    "    outputCol=\"features\")\n",
    "\n",
    "products_transform = featureassembler.transform(products)"
   ]
  },
  {
   "cell_type": "code",
   "execution_count": 101,
   "metadata": {},
   "outputs": [
    {
     "name": "stdout",
     "output_type": "stream",
     "text": [
      "+--------------------+\n",
      "|            features|\n",
      "+--------------------+\n",
      "|[38.3576339776294...|\n",
      "|[32.7533777598847...|\n",
      "+--------------------+\n",
      "only showing top 2 rows\n",
      "\n"
     ]
    }
   ],
   "source": [
    "products_transform.select('features').show(2)"
   ]
  },
  {
   "attachments": {},
   "cell_type": "markdown",
   "metadata": {},
   "source": [
    "**Correlation**\n",
    "\n",
    "Compute correlation between two series"
   ]
  },
  {
   "cell_type": "code",
   "execution_count": 113,
   "metadata": {},
   "outputs": [
    {
     "name": "stdout",
     "output_type": "stream",
     "text": [
      "Matrix correlation:\n",
      " DenseMatrix([[1.       , 0.9590808],\n",
      "             [0.9590808, 1.       ]])\n"
     ]
    }
   ],
   "source": [
    "# the current_prices and old_prices\n",
    "print('Matrix correlation:\\n',Correlation.corr(products_transform, 'features').head()[0]);"
   ]
  },
  {
   "attachments": {},
   "cell_type": "markdown",
   "metadata": {},
   "source": [
    "### Machine Learning using Spark"
   ]
  },
  {
   "cell_type": "markdown",
   "metadata": {},
   "source": [
    "The best way to learn how use machine learning in the `PySpark` in with an application"
   ]
  },
  {
   "cell_type": "markdown",
   "metadata": {},
   "source": [
    "We will build a model that predict the sales of the all sellers. Simultaneously, we build a model that compute the proportion of these that belong to each seller.\n",
    "\n",
    "The primary squema with we will work is"
   ]
  },
  {
   "attachments": {},
   "cell_type": "markdown",
   "metadata": {},
   "source": [
    "<div align=\"center\">\n",
    "    <img src =\"./assets/img/soul-schema.png\" width=\"600\" >\n",
    "</div>"
   ]
  },
  {
   "cell_type": "markdown",
   "metadata": {},
   "source": [
    "## Load files"
   ]
  },
  {
   "cell_type": "markdown",
   "metadata": {},
   "source": [
    "Load the remaining files(tables) like `users` and `sales_normalize`"
   ]
  },
  {
   "cell_type": "code",
   "execution_count": 115,
   "metadata": {},
   "outputs": [],
   "source": [
    "users = spark.read.option(\"inferSchema\",True).option(\"header\", True).csv(\n",
    "    path = './assets/files/users.csv')\n",
    "\n",
    "sales = spark.read.option(\"inferSchema\",True).option(\"header\", True).csv(\n",
    "    path = './assets/files/sales_normalize.csv')"
   ]
  },
  {
   "cell_type": "markdown",
   "metadata": {},
   "source": [
    "The main table that contain the records is `sales_normalize`"
   ]
  },
  {
   "cell_type": "code",
   "execution_count": 116,
   "metadata": {},
   "outputs": [
    {
     "name": "stdout",
     "output_type": "stream",
     "text": [
      "+----------+-------------+--------+-------+---------+-------------------+--------+\n",
      "|product_id|   sale_price|quantity|user_id|seller_id|          sale_date|sales_id|\n",
      "+----------+-------------+--------+-------+---------+-------------------+--------+\n",
      "|     12545|38.1250714119|       2|   3826|    10519|2017-07-03 04:00:00|   40000|\n",
      "|     15392|37.5075552788|       2|   3826|    10519|2017-07-03 04:00:00|   40000|\n",
      "|     18190|31.8646298791|       1|   3826|    10519|2017-07-03 04:00:00|   40000|\n",
      "|     19564|32.1815737251|       2|   3826|    10519|2017-07-03 04:00:00|   40000|\n",
      "|     10317|33.2484627343|       2|   3826|    10519|2017-07-03 04:00:00|   40000|\n",
      "+----------+-------------+--------+-------+---------+-------------------+--------+\n",
      "only showing top 5 rows\n",
      "\n"
     ]
    }
   ],
   "source": [
    "sales.show(5)"
   ]
  },
  {
   "cell_type": "markdown",
   "metadata": {},
   "source": [
    "The purpose of the this project is predicts the distribution of the products over the next 2 weeks.\n",
    "\n",
    "We have this restriction since the products that the sellers `sell` are ordered with 2 weeks in advance"
   ]
  },
  {
   "cell_type": "code",
   "execution_count": 117,
   "metadata": {},
   "outputs": [],
   "source": [
    "joinned = sales.join(users, on = 'user_id', how = 'inner')"
   ]
  },
  {
   "cell_type": "code",
   "execution_count": 118,
   "metadata": {},
   "outputs": [
    {
     "name": "stdout",
     "output_type": "stream",
     "text": [
      "+-------+----------+-------------+--------+---------+-------------------+--------+----+----------+-------------------+\n",
      "|user_id|product_id|   sale_price|quantity|seller_id|          sale_date|sales_id|ages|department|              dates|\n",
      "+-------+----------+-------------+--------+---------+-------------------+--------+----+----------+-------------------+\n",
      "|   3826|     12545|38.1250714119|       2|    10519|2017-07-03 04:00:00|   40000|  30|      Lima|2017-10-23 12:00:00|\n",
      "|   3826|     15392|37.5075552788|       2|    10519|2017-07-03 04:00:00|   40000|  30|      Lima|2017-10-23 12:00:00|\n",
      "|   3826|     18190|31.8646298791|       1|    10519|2017-07-03 04:00:00|   40000|  30|      Lima|2017-10-23 12:00:00|\n",
      "|   3826|     19564|32.1815737251|       2|    10519|2017-07-03 04:00:00|   40000|  30|      Lima|2017-10-23 12:00:00|\n",
      "|   3826|     10317|33.2484627343|       2|    10519|2017-07-03 04:00:00|   40000|  30|      Lima|2017-10-23 12:00:00|\n",
      "+-------+----------+-------------+--------+---------+-------------------+--------+----+----------+-------------------+\n",
      "only showing top 5 rows\n",
      "\n"
     ]
    }
   ],
   "source": [
    "joinned.show(5)"
   ]
  },
  {
   "cell_type": "code",
   "execution_count": null,
   "metadata": {},
   "outputs": [],
   "source": []
  },
  {
   "cell_type": "code",
   "execution_count": 62,
   "metadata": {},
   "outputs": [],
   "source": [
    "import pandas as pd\n",
    "import numpy as np"
   ]
  },
  {
   "cell_type": "markdown",
   "metadata": {},
   "source": [
    "We convert the data to `Pandas DataFrame`"
   ]
  },
  {
   "cell_type": "code",
   "execution_count": 133,
   "metadata": {},
   "outputs": [],
   "source": [
    "sales_pandas = sales.toPandas()\n",
    "products_pandas = products.toPandas()"
   ]
  },
  {
   "cell_type": "code",
   "execution_count": 195,
   "metadata": {},
   "outputs": [],
   "source": [
    "sales_products_pandas = sales_pandas.merge(products_pandas, on = 'product_id')"
   ]
  },
  {
   "cell_type": "code",
   "execution_count": 191,
   "metadata": {},
   "outputs": [],
   "source": [
    "variable = 'category_id' #variable"
   ]
  },
  {
   "cell_type": "code",
   "execution_count": 196,
   "metadata": {},
   "outputs": [],
   "source": [
    "sales_products_2weeks = sales_products_pandas.groupby(\n",
    "    [pd.Grouper(key = 'sale_date', freq='2w'), variable])\n",
    "\n",
    "products_by_2w = sales_products_2weeks.quantity.agg('sum').unstack()\n",
    "total_by_2w = products_by_2w.sum(axis=1)"
   ]
  },
  {
   "cell_type": "code",
   "execution_count": 197,
   "metadata": {},
   "outputs": [],
   "source": [
    "dist_products_by_2w = products_by_2w.div(total_by_2w, axis='index')"
   ]
  },
  {
   "cell_type": "markdown",
   "metadata": {},
   "source": [
    "`dist_products_by_2w`\n",
    "* With this table we create the `features` and `target` \n",
    "\n",
    "Target"
   ]
  },
  {
   "cell_type": "code",
   "execution_count": 198,
   "metadata": {},
   "outputs": [],
   "source": [
    "dist_products_by_2w_stack = dist_products_by_2w.stack()\n",
    "dist_products_by_2w_stack.name = 'target'\n",
    "data_target = dist_products_by_2w_stack.reset_index()"
   ]
  },
  {
   "cell_type": "markdown",
   "metadata": {},
   "source": [
    "Features"
   ]
  },
  {
   "cell_type": "code",
   "execution_count": 199,
   "metadata": {},
   "outputs": [],
   "source": [
    "dist_products_by_2w_shift = dist_products_by_2w.shift(2)\n",
    "dist_products_by_2w_shift_stack = dist_products_by_2w_shift.stack()\n",
    "dist_products_by_2w_shift_stack.name = \"feature\"\n",
    "data_feature = dist_products_by_2w_shift_stack.reset_index()"
   ]
  },
  {
   "cell_type": "markdown",
   "metadata": {},
   "source": [
    "Data Complete"
   ]
  },
  {
   "cell_type": "code",
   "execution_count": 200,
   "metadata": {},
   "outputs": [],
   "source": [
    "data_complete = data_target.merge(data_feature, on = ['sale_date', variable])"
   ]
  },
  {
   "cell_type": "markdown",
   "metadata": {},
   "source": [
    "Add some features"
   ]
  },
  {
   "cell_type": "code",
   "execution_count": 202,
   "metadata": {},
   "outputs": [],
   "source": [
    "group_by_variable =products_pandas.groupby(variable)\n",
    "variable_by_count = group_by_variable.product_id.agg(lambda x:len(np.unique(x)))\n",
    "variable_by_count.name = \"portfolio\"\n",
    "variable_count = variable_by_count.reset_index()"
   ]
  },
  {
   "cell_type": "markdown",
   "metadata": {},
   "source": [
    "Join the new features"
   ]
  },
  {
   "cell_type": "code",
   "execution_count": 203,
   "metadata": {},
   "outputs": [],
   "source": [
    "data_to_algmoritm = data_complete.merge(variable_count, on = variable)"
   ]
  },
  {
   "cell_type": "code",
   "execution_count": 208,
   "metadata": {},
   "outputs": [],
   "source": [
    "data_total = data_to_algmoritm.sort_values(by = 'sale_date')\n",
    "data_total.reset_index(inplace = True, drop=True)"
   ]
  },
  {
   "cell_type": "code",
   "execution_count": 210,
   "metadata": {},
   "outputs": [],
   "source": [
    "data_total_spark = spark.createDataFrame(data_total)"
   ]
  },
  {
   "cell_type": "code",
   "execution_count": 259,
   "metadata": {},
   "outputs": [],
   "source": [
    "data_total_spark = data_total_spark.withColumn('date', functions.to_date('sale_date'))"
   ]
  },
  {
   "cell_type": "code",
   "execution_count": 260,
   "metadata": {},
   "outputs": [],
   "source": [
    "from pyspark.ml.feature import VectorAssembler\n",
    "featureassembler=VectorAssembler(inputCols=[\"feature\",\"portfolio\"],outputCol=\"Independent Features\")"
   ]
  },
  {
   "cell_type": "code",
   "execution_count": 261,
   "metadata": {},
   "outputs": [],
   "source": [
    "output = featureassembler.transform(data_total_spark)"
   ]
  },
  {
   "cell_type": "code",
   "execution_count": 273,
   "metadata": {},
   "outputs": [],
   "source": [
    "date_treshold = '2022-05-08'"
   ]
  },
  {
   "cell_type": "code",
   "execution_count": 274,
   "metadata": {},
   "outputs": [],
   "source": [
    "data_total_spark_traning = output.filter(functions.col('sale_date')<f\"{date_treshold}\")\n",
    "data_total_spark_testing = output.filter(functions.col('sale_date')==f\"{date_treshold}\")"
   ]
  },
  {
   "cell_type": "code",
   "execution_count": 279,
   "metadata": {},
   "outputs": [
    {
     "name": "stdout",
     "output_type": "stream",
     "text": [
      "Size of train: 12104\n",
      "Size of test: 96\n"
     ]
    }
   ],
   "source": [
    "print(\"Size of train:\",data_total_spark_traning.count())\n",
    "print(\"Size of test:\",data_total_spark_testing.count())"
   ]
  },
  {
   "cell_type": "code",
   "execution_count": 271,
   "metadata": {},
   "outputs": [],
   "source": [
    "dates_test = data_total.sale_date.unique()[-5:-1]"
   ]
  },
  {
   "cell_type": "code",
   "execution_count": 280,
   "metadata": {},
   "outputs": [],
   "source": [
    "from pyspark.mllib.tree import RandomForest\n",
    "from pyspark.ml.regression import RandomForestRegressor"
   ]
  },
  {
   "cell_type": "code",
   "execution_count": 281,
   "metadata": {},
   "outputs": [],
   "source": [
    "regressor=RandomForestRegressor(featuresCol='Independent Features', labelCol='target')\n",
    "regressor=regressor.fit(data_total_spark_traning)"
   ]
  },
  {
   "cell_type": "code",
   "execution_count": 282,
   "metadata": {},
   "outputs": [],
   "source": [
    "predict = regressor.transform(data_total_spark_testing)"
   ]
  },
  {
   "cell_type": "code",
   "execution_count": 284,
   "metadata": {},
   "outputs": [
    {
     "name": "stderr",
     "output_type": "stream",
     "text": [
      "c:\\Users\\LENOVO\\anaconda3\\lib\\site-packages\\pyspark\\sql\\pandas\\conversion.py:87: UserWarning: toPandas attempted Arrow optimization because 'spark.sql.execution.arrow.pyspark.enabled' is set to true; however, failed by the reason below:\n",
      "  Unsupported type in conversion to Arrow: VectorUDT\n",
      "Attempting non-optimization as 'spark.sql.execution.arrow.pyspark.fallback.enabled' is set to true.\n",
      "  warnings.warn(msg)\n"
     ]
    }
   ],
   "source": [
    "predictPandas = predict.toPandas()"
   ]
  },
  {
   "cell_type": "code",
   "execution_count": 287,
   "metadata": {},
   "outputs": [],
   "source": [
    "gd = predictPandas[['prediction', 'target']]*total_by_2w[date_treshold].copy()"
   ]
  },
  {
   "cell_type": "code",
   "execution_count": 288,
   "metadata": {},
   "outputs": [
    {
     "data": {
      "text/plain": [
       "0.00     0.003371\n",
       "0.25     1.601855\n",
       "0.50     4.203612\n",
       "0.75     6.362380\n",
       "0.90     7.995418\n",
       "1.00    13.687902\n",
       "dtype: float64"
      ]
     },
     "execution_count": 288,
     "metadata": {},
     "output_type": "execute_result"
    }
   ],
   "source": [
    "gd.eval(\"abs(target - prediction)\").quantile([0, 0.25, 0.5, 0.75, 0.9, 1])"
   ]
  },
  {
   "cell_type": "code",
   "execution_count": 289,
   "metadata": {},
   "outputs": [
    {
     "data": {
      "text/plain": [
       "<AxesSubplot:>"
      ]
     },
     "execution_count": 289,
     "metadata": {},
     "output_type": "execute_result"
    },
    {
     "data": {
      "image/png": "[encoded data removed]",
      "text/plain": [
       "<Figure size 432x288 with 1 Axes>"
      ]
     },
     "metadata": {
      "needs_background": "light"
     },
     "output_type": "display_data"
    }
   ],
   "source": [
    "gd.plot()"
   ]
  },
  {
   "cell_type": "code",
   "execution_count": null,
   "metadata": {},
   "outputs": [],
   "source": []
  },
  {
   "attachments": {},
   "cell_type": "markdown",
   "metadata": {},
   "source": [
    "### Accessing Spark SQL\n",
    "\n",
    "Connection with MariaDB"
   ]
  },
  {
   "cell_type": "markdown",
   "metadata": {},
   "source": [
    "This is part of the [`JDBC to Others Databases`](https://spark.apache.org/docs/latest/sql-data-sources-jdbc.html)\n",
    "\n",
    "> Recall\n",
    "> \n",
    "> JDBC means $\\text{Java}^{\\text{TM}}$ $\\text{DataBase}$ $\\text{Connection}$\n",
    "\n",
    "We can read data from the other databases like *MariaDB*, *MS Sql*, *Oracle*, *PostgreSQL*. For Each one we must download its connector"
   ]
  },
  {
   "cell_type": "markdown",
   "metadata": {},
   "source": [
    "For *MariaBD*\n",
    "1. Downloading the connector from https://dev.mysql.com/downloads/connector/j/?os=26 (mysql-connector-j-8.0.31.tar.gz)\n",
    "2. Decompress in a folder.\n",
    "3. The path where is the file will be included in `config['CONN_MYSQL_JAR']`"
   ]
  },
  {
   "cell_type": "code",
   "execution_count": 5,
   "metadata": {},
   "outputs": [],
   "source": [
    "from dotenv import dotenv_values"
   ]
  },
  {
   "cell_type": "code",
   "execution_count": 6,
   "metadata": {},
   "outputs": [],
   "source": [
    "config = dotenv_values('.env')"
   ]
  },
  {
   "cell_type": "markdown",
   "metadata": {},
   "source": [
    "We start a new session with spark jars  built using the connector "
   ]
  },
  {
   "cell_type": "code",
   "execution_count": 21,
   "metadata": {},
   "outputs": [],
   "source": [
    "maria_db = SparkSession \\\n",
    "       .builder.config(\"spark.jars\", config['CONN_MYSQL_JAR'])\\\n",
    "       .master(\"local\")\\\n",
    "       .appName(\"PySpark\")\\\n",
    "       .getOrCreate()"
   ]
  },
  {
   "cell_type": "markdown",
   "metadata": {},
   "source": [
    "Using the connector we connect on it using all the setting, the URI, table name, user name, password, and so on. "
   ]
  },
  {
   "cell_type": "code",
   "execution_count": 22,
   "metadata": {},
   "outputs": [],
   "source": [
    "country = maria_db.read \\\n",
    "         .format(\"jdbc\") \\\n",
    "         .option(\"url\", config['CONN_MYSQL_CLIENT'])\\\n",
    "         .option(\"driver\", \"com.mysql.jdbc.Driver\") \\\n",
    "         .option(\"dbtable\", \"country\") \\\n",
    "         .option(\"user\", config['USER']) \\\n",
    "         .option(\"password\", config['PASSWORD']) \\\n",
    "         .load()"
   ]
  },
  {
   "cell_type": "code",
   "execution_count": 17,
   "metadata": {},
   "outputs": [
    {
     "name": "stdout",
     "output_type": "stream",
     "text": [
      "+----+-----------+-------------+--------------------+-----------+---------+----------+--------------+-------+------+--------------------+--------------------+-------------+-------+-----+\n",
      "|Code|       Name|    Continent|              Region|SurfaceArea|IndepYear|Population|LifeExpectancy|    GNP|GNPOld|           LocalName|      GovernmentForm|  HeadOfState|Capital|Code2|\n",
      "+----+-----------+-------------+--------------------+-----------+---------+----------+--------------+-------+------+--------------------+--------------------+-------------+-------+-----+\n",
      "| ABW|      Aruba|North America|           Caribbean|     193.00|     null|    103000|          78.4| 828.00|793.00|               Aruba|Nonmetropolitan T...|      Beatrix|    129|   AW|\n",
      "| AFG|Afghanistan|         Asia|Southern and Cent...|  652090.00|     1919|  22720000|          45.9|5976.00|  null|Afganistan/Afqane...|     Islamic Emirate|Mohammad Omar|      1|   AF|\n",
      "+----+-----------+-------------+--------------------+-----------+---------+----------+--------------+-------+------+--------------------+--------------------+-------------+-------+-----+\n",
      "only showing top 2 rows\n",
      "\n"
     ]
    }
   ],
   "source": [
    "country.show(2)"
   ]
  },
  {
   "cell_type": "code",
   "execution_count": 23,
   "metadata": {},
   "outputs": [],
   "source": [
    "city = maria_db.read \\\n",
    "         .format(\"jdbc\") \\\n",
    "         .option(\"url\", config['CONN_MYSQL_CLIENT'])\\\n",
    "          .option(\"driver\", \"com.mysql.jdbc.Driver\") \\\n",
    "         .option(\"dbtable\", \"city\") \\\n",
    "         .option(\"user\", config['USER']) \\\n",
    "         .option(\"password\", config['PASSWORD']) \\\n",
    "         .load()"
   ]
  },
  {
   "cell_type": "markdown",
   "metadata": {},
   "source": [
    "We can use join, similar to join in sql"
   ]
  },
  {
   "cell_type": "code",
   "execution_count": 28,
   "metadata": {},
   "outputs": [],
   "source": [
    "# Due to the code is repeat afet the joining we drop one of them\n",
    "joinned = city.join(country, city.CountryCode == country.Code, 'inner').drop(functions.col('code2'))"
   ]
  },
  {
   "cell_type": "markdown",
   "metadata": {},
   "source": [
    "More kind of the join, like left, outer, ... in [Spark by examples](https://sparkbyexamples.com/pyspark/pyspark-join-explained-with-examples/)"
   ]
  },
  {
   "cell_type": "markdown",
   "metadata": {},
   "source": [
    "We can write in the database from a dataframe. \n",
    "\n",
    "Suppose we already have a dataframe and we want to save it in a MariaDB.\n",
    "\n",
    "so, we can save using `.write` and the pass the severals setting "
   ]
  },
  {
   "cell_type": "code",
   "execution_count": 30,
   "metadata": {},
   "outputs": [],
   "source": [
    "joinned.write\\\n",
    "    .format(\"jdbc\") \\\n",
    "         .option(\"url\", config['CONN_MYSQL_CLIENT'])\\\n",
    "          .option(\"driver\", \"com.mysql.jdbc.Driver\")\\\n",
    "         .option(\"dbtable\", \"joined_table\")\\\n",
    "         .option(\"user\", config['USER'])\\\n",
    "         .option(\"password\", config['PASSWORD'])\\\n",
    "         .save()"
   ]
  },
  {
   "cell_type": "markdown",
   "metadata": {},
   "source": [
    "https://www.projectpro.io/recipes/read-data-from-postgresql-pyspark\n",
    "\n",
    "https://spark.apache.org/docs/latest/sql-data-sources-jdbc.html\n",
    "\n",
    "https://sparkbyexamples.com/pyspark/pyspark-read-csv-file-into-dataframe/\n",
    "\n",
    "https://spark.apache.org/docs/2.2.0/sql-programming-guide.html\n",
    "\n",
    "https://github.com/krishnaik06/Pyspark-With-Python/blob/main/Tutorial%206-Example%20Of%20Pyspark%20ML.ipynb"
   ]
  }
 ],
 "metadata": {
  "kernelspec": {
   "display_name": "Python 3.9.7 ('base')",
   "language": "python",
   "name": "python3"
  },
  "language_info": {
   "codemirror_mode": {
    "name": "ipython",
    "version": 3
   },
   "file_extension": ".py",
   "mimetype": "text/x-python",
   "name": "python",
   "nbconvert_exporter": "python",
   "pygments_lexer": "ipython3",
   "version": "3.9.7"
  },
  "vscode": {
   "interpreter": {
    "hash": "7679c2132d3f6ce38c9df14d554b39c06862b36a4e6689c81f9ae15bd0911d7d"
   }
  }
 },
 "nbformat": 4,
 "nbformat_minor": 2
}
